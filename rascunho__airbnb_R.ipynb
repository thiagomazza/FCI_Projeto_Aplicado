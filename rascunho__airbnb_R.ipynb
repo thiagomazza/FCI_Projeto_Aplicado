{
  "nbformat": 4,
  "nbformat_minor": 0,
  "metadata": {
    "colab": {
      "provenance": [],
      "collapsed_sections": []
    },
    "kernelspec": {
      "name": "ir",
      "display_name": "R"
    },
    "language_info": {
      "name": "R"
    }
  },
  "cells": [
    {
      "cell_type": "markdown",
      "source": [
        "# Projeto Aplicado\n",
        "\n",
        "# Analisando os dados do Airbnb do Rio de Janeiro\n",
        "\n"
      ],
      "metadata": {
        "id": "zuLxGwH5Ym-y"
      }
    },
    {
      "cell_type": "markdown",
      "source": [
        "### Instalando pacote para o cálculo da Moda"
      ],
      "metadata": {
        "id": "R-Y5M1RbW7YX"
      }
    },
    {
      "cell_type": "code",
      "source": [
        "install.packages('DescTools')"
      ],
      "metadata": {
        "colab": {
          "base_uri": "https://localhost:8080/"
        },
        "id": "mIpISP2eTjFK",
        "outputId": "d4ba82c7-0748-4620-8b76-00e340b89f93"
      },
      "execution_count": 1,
      "outputs": [
        {
          "output_type": "stream",
          "name": "stderr",
          "text": [
            "Installing package into ‘/usr/local/lib/R/site-library’\n",
            "(as ‘lib’ is unspecified)\n",
            "\n",
            "also installing the dependencies ‘proxy’, ‘rootSolve’, ‘e1071’, ‘lmom’, ‘mvtnorm’, ‘expm’, ‘Rcpp’, ‘Exact’, ‘gld’, ‘BH’\n",
            "\n",
            "\n"
          ]
        }
      ]
    },
    {
      "cell_type": "markdown",
      "source": [
        "### Importação das bibliotecas (stringr para podermos trabalhar com string para permitir 'replace')"
      ],
      "metadata": {
        "id": "dHWzcHRaXNSg"
      }
    },
    {
      "cell_type": "code",
      "source": [
        "library(DescTools)\n",
        "library(tidyverse)\n",
        "library(stringr)"
      ],
      "metadata": {
        "id": "zldDGMWcT_eM"
      },
      "execution_count": null,
      "outputs": []
    },
    {
      "cell_type": "markdown",
      "source": [
        "### Realizando leitura e importação da base a ser utilizado"
      ],
      "metadata": {
        "id": "WzP2Q-DDXZ2I"
      }
    },
    {
      "cell_type": "code",
      "source": [
        "df_listing = read_csv(\"http://data.insideairbnb.com/brazil/rj/rio-de-janeiro/2022-06-20/data/listings.csv.gz\")"
      ],
      "metadata": {
        "id": "dWcqDWUU-hjT"
      },
      "execution_count": null,
      "outputs": []
    },
    {
      "cell_type": "markdown",
      "source": [
        "### Nas próximas linhas faremos uma pequena exploração da base"
      ],
      "metadata": {
        "id": "pmDk5GugXfUj"
      }
    },
    {
      "cell_type": "code",
      "source": [
        "head(df_listing)"
      ],
      "metadata": {
        "id": "FeBiofhV_GvV"
      },
      "execution_count": null,
      "outputs": []
    },
    {
      "cell_type": "code",
      "source": [
        "summary(df_listing)"
      ],
      "metadata": {
        "id": "YJQovL7IAMF6"
      },
      "execution_count": null,
      "outputs": []
    },
    {
      "cell_type": "code",
      "source": [
        "str(df_listing)"
      ],
      "metadata": {
        "id": "SVa6Oq45BpLm"
      },
      "execution_count": null,
      "outputs": []
    },
    {
      "cell_type": "code",
      "source": [
        "dim(df_listing)"
      ],
      "metadata": {
        "colab": {
          "base_uri": "https://localhost:8080/",
          "height": 34
        },
        "id": "UAxXXc3PZ0pW",
        "outputId": "ee17f671-dd36-4d9f-a8bb-48c536c7f72c"
      },
      "execution_count": 9,
      "outputs": [
        {
          "output_type": "display_data",
          "data": {
            "text/html": [
              "<style>\n",
              ".list-inline {list-style: none; margin:0; padding: 0}\n",
              ".list-inline>li {display: inline-block}\n",
              ".list-inline>li:not(:last-child)::after {content: \"\\00b7\"; padding: 0 .5ex}\n",
              "</style>\n",
              "<ol class=list-inline><li>24881</li><li>74</li></ol>\n"
            ],
            "text/markdown": "1. 24881\n2. 74\n\n\n",
            "text/latex": "\\begin{enumerate*}\n\\item 24881\n\\item 74\n\\end{enumerate*}\n",
            "text/plain": [
              "[1] 24881    74"
            ]
          },
          "metadata": {}
        }
      ]
    },
    {
      "cell_type": "markdown",
      "source": [
        "## Objetivos e metas: Explorar a base buscando demonstrar itens da natureza abaixo \n",
        "\n",
        "##### Há presença de outliers? Sim ! Verificado em preco e quantidades de diarias  (poderia vir por ultimo essa pergunta..) \n",
        "\n",
        "##### Tempo de permanência médio (estadia), nao achei esta informacao , acho que podemos tirar essa pergunta do proximo  envio ja que estamos trabalhando mais frentes nas demais.. (sugestao) ou falar que nao tem essa info ... \n",
        "\n",
        "##### Existe correlação entre 2 atributos?  é possivel calcular mas nao é poissivel concluir se há uma relacao de causa e efeito \n",
        "\n"
      ],
      "metadata": {
        "id": "rdWqQoorWGzt"
      }
    },
    {
      "cell_type": "markdown",
      "source": [
        "#### Exibindo a quantidade de linhas e colunas\n",
        "\n"
      ],
      "metadata": {
        "id": "lY69KfjvX1nt"
      }
    },
    {
      "cell_type": "code",
      "source": [
        "nrow(df_listing)\n",
        "ncol(df_listing)"
      ],
      "metadata": {
        "id": "_u5JKQHnAnTq"
      },
      "execution_count": null,
      "outputs": []
    },
    {
      "cell_type": "markdown",
      "source": [
        "### São dados contínuo ou discretos ?\n",
        "\n",
        "Conforme é possível visualizar no str(df_listing) os atributos são diversos com a grande maioria sendo discreto. Poucos dados são contínuos como por exemplo latitute e longitude"
      ],
      "metadata": {
        "id": "E7-ZCEU2MMOO"
      }
    },
    {
      "cell_type": "markdown",
      "source": [
        "### Quais os tipos de acomodação disponíveis.\n",
        "\n",
        "#### Na análise abaixo fizemos algumas análises. Nelas identificamos 4 tipos de acomodações e destacamos. Fizemos a análise para representar a porcentagem que cada um possui em toda base além de apresentarmos o total de acomadações da base\n",
        "\n",
        "\n"
      ],
      "metadata": {
        "id": "3Ffo6jbRMN9x"
      }
    },
    {
      "cell_type": "code",
      "source": [
        "unique(df_listing$room_type)"
      ],
      "metadata": {
        "id": "WKXEzpg2CbuP"
      },
      "execution_count": null,
      "outputs": []
    },
    {
      "cell_type": "code",
      "source": [
        "table(df_listing$room_type)\n"
      ],
      "metadata": {
        "id": "sqnqzH-yC5t0"
      },
      "execution_count": null,
      "outputs": []
    },
    {
      "cell_type": "code",
      "source": [
        "total_quartos = sum(df_listing$room_type==\"Shared room\") +sum(df_listing$room_type==\"Private room\") +sum(df_listing$room_type==\"Hotel room\")+sum(df_listing$room_type== \"Entire home/apt\" )\n",
        "total_quartos"
      ],
      "metadata": {
        "id": "HefdJ49_Uxb9"
      },
      "execution_count": null,
      "outputs": []
    },
    {
      "cell_type": "code",
      "source": [
        "print('Total em porcentagem de Casa / Apartamento')\n",
        "print((sum(df_listing$room_type== \"Entire home/apt\")/total_quartos)*100)"
      ],
      "metadata": {
        "id": "aNViI__DVVMY"
      },
      "execution_count": null,
      "outputs": []
    },
    {
      "cell_type": "code",
      "source": [
        "print('Total em porcentagem de Quarto Hotel')\n",
        "print((sum(df_listing$room_type==\"Hotel room\")/total_quartos)*100)"
      ],
      "metadata": {
        "id": "haBTGU5JVpuw"
      },
      "execution_count": null,
      "outputs": []
    },
    {
      "cell_type": "code",
      "source": [
        "print('Total em porcentagem de Quarto Privado')\n",
        "print((sum(df_listing$room_type==\"Private room\")/total_quartos)*100)"
      ],
      "metadata": {
        "id": "MiLzWxYgWeLe"
      },
      "execution_count": null,
      "outputs": []
    },
    {
      "cell_type": "code",
      "source": [
        "print('Total em porcentagem de Quarto Coletivo')\n",
        "print((sum(df_listing$room_type==\"Shared room\")/total_quartos)*100)"
      ],
      "metadata": {
        "id": "AYpDE-y3Wy3m"
      },
      "execution_count": null,
      "outputs": []
    },
    {
      "cell_type": "markdown",
      "source": [
        "### Preco: média, mediana e moda nos preços - por tipo de acomodação \n",
        "\n",
        "#### Em nossa análise foi identiicado que o campo \"preço\" esta em caracter, e para fazer a análise proposta foi necessário converter ele para número\n"
      ],
      "metadata": {
        "id": "JI8ClKZIXiuw"
      }
    },
    {
      "cell_type": "code",
      "source": [
        "class(df_listing$price) #identificado que preco esta em caracter e nao em numeros \n",
        "df_listing$price "
      ],
      "metadata": {
        "id": "vT6T3YORd4QU"
      },
      "execution_count": null,
      "outputs": []
    },
    {
      "cell_type": "code",
      "source": [
        "# Passo 1 - Substituindo $ por vazio\n",
        "# Passo 2 - Substituindo , por vazio\n",
        "df_listing$price2 = str_replace_all(str_replace_all(df_listing$price,\"\\\\$\",\"\"),\",\",\"\")\n",
        "df_listing$price2"
      ],
      "metadata": {
        "id": "PcRjVJZ8b_64"
      },
      "execution_count": null,
      "outputs": []
    },
    {
      "cell_type": "code",
      "source": [
        "# Após remover caracteres nao numericos, converte para numeric\n",
        "df_listing$price2 = as.numeric(df_listing$price2)\n",
        "df_listing$price2"
      ],
      "metadata": {
        "id": "jRZXyaQNlZUG"
      },
      "execution_count": null,
      "outputs": []
    },
    {
      "cell_type": "code",
      "source": [
        "summary(df_listing$price2)"
      ],
      "metadata": {
        "id": "qS3CpU1Rx__6"
      },
      "execution_count": null,
      "outputs": []
    },
    {
      "cell_type": "code",
      "source": [
        "#criando uma coluna chamada price2\n",
        "df_listing.price2 = df_listing$price2"
      ],
      "metadata": {
        "id": "fhIux5VDajlw"
      },
      "execution_count": null,
      "outputs": []
    },
    {
      "cell_type": "code",
      "source": [
        "ncol(df_listing)\n",
        "names(df_listing)"
      ],
      "metadata": {
        "id": "vFnoY2iwa6fn"
      },
      "execution_count": null,
      "outputs": []
    },
    {
      "cell_type": "code",
      "source": [
        "#utilizando o pacote DescTools vamos conseguir facilmente identificar o preço que mais aparece (moda) \n",
        "Mode(df_listing$price2)"
      ],
      "metadata": {
        "id": "WdW18v0RX8OX"
      },
      "execution_count": null,
      "outputs": []
    },
    {
      "cell_type": "code",
      "source": [
        "sd(df_listing$price2) #desvio padrao alto"
      ],
      "metadata": {
        "id": "W4u14NEoKNzX"
      },
      "execution_count": null,
      "outputs": []
    },
    {
      "cell_type": "code",
      "source": [
        "boxplot(df_listing$price2)            "
      ],
      "metadata": {
        "id": "2zWd4KL9LyH0"
      },
      "execution_count": null,
      "outputs": []
    },
    {
      "cell_type": "code",
      "source": [
        "plot(df_listing$price2)     \n",
        " "
      ],
      "metadata": {
        "id": "dUdOAW_1NAaY"
      },
      "execution_count": null,
      "outputs": []
    },
    {
      "cell_type": "markdown",
      "source": [
        "#Média, mediana e moda nos preços - por tipo de acomodação \n"
      ],
      "metadata": {
        "id": "-EBY6IOUYpBi"
      }
    },
    {
      "cell_type": "markdown",
      "source": [
        "casa ou apartamento inteiro"
      ],
      "metadata": {
        "id": "k7iL5cYmjcVb"
      }
    },
    {
      "cell_type": "code",
      "source": [
        "#casa ou apartamento inteiro\n",
        "summary((df_listing[df_listing$room_type == 'Entire home/apt', ])$price2)\n",
        "print('a moda é:')\n",
        "Mode((df_listing[df_listing$room_type == 'Entire home/apt', ])$price2) # nao consegui colocar na mesma linha "
      ],
      "metadata": {
        "colab": {
          "base_uri": "https://localhost:8080/",
          "height": 86
        },
        "id": "mSs2OnBJfUsP",
        "outputId": "9556d36e-5081-458e-fc8d-b016be98e476"
      },
      "execution_count": null,
      "outputs": [
        {
          "output_type": "display_data",
          "data": {
            "text/plain": [
              "    Min.  1st Qu.   Median     Mean  3rd Qu.     Max. \n",
              "    50.0    207.0    350.0    798.4    700.0 316450.0 "
            ]
          },
          "metadata": {}
        },
        {
          "output_type": "stream",
          "name": "stdout",
          "text": [
            "[1] \"a moda é:\"\n"
          ]
        },
        {
          "output_type": "display_data",
          "data": {
            "text/html": [
              "250"
            ],
            "text/markdown": "250",
            "text/latex": "250",
            "text/plain": [
              "[1] 250\n",
              "attr(,\"freq\")\n",
              "[1] 574"
            ]
          },
          "metadata": {}
        }
      ]
    },
    {
      "cell_type": "code",
      "source": [
        "barplot((df_listing[df_listing$room_type == 'Entire home/apt', ])$price2)\n",
        "plot((df_listing[df_listing$room_type == 'Entire home/apt', ])$price2)\n",
        "boxplot((df_listing[df_listing$room_type == 'Entire home/apt', ])$price2)"
      ],
      "metadata": {
        "colab": {
          "base_uri": "https://localhost:8080/",
          "height": 1000
        },
        "id": "OKQDHy6Qfrvu",
        "outputId": "15d9feb1-eb5f-4bc9-a1b3-421e1a507d50"
      },
      "execution_count": null,
      "outputs": [
        {
          "output_type": "display_data",
          "data": {
            "text/plain": [
              "plot without title"
            ],
            "image/png": "[encoded data removed]"
          },
          "metadata": {
            "image/png": {
              "width": 420,
              "height": 420
            }
          }
        },
        {
          "output_type": "display_data",
          "data": {
            "text/plain": [
              "plot without title"
            ],
            "image/png": "[encoded data removed]"
          },
          "metadata": {
            "image/png": {
              "width": 420,
              "height": 420
            }
          }
        },
        {
          "output_type": "display_data",
          "data": {
            "text/plain": [
              "plot without title"
            ],
            "image/png": "[encoded data removed]"
          },
          "metadata": {
            "image/png": {
              "width": 420,
              "height": 420
            }
          }
        }
      ]
    },
    {
      "cell_type": "markdown",
      "source": [
        "Quarto de hotel"
      ],
      "metadata": {
        "id": "ME-D_4XqjhcL"
      }
    },
    {
      "cell_type": "code",
      "source": [
        "#Quarto de hotel\n",
        "summary((df_listing[df_listing$room_type == \"Hotel room\", ])$price2)\n",
        "print('a moda é:')\n",
        "Mode((df_listing[df_listing$room_type == \"Hotel room\", ])$price2) # nao consegui colocar na mesma linha  \n",
        "(df_listing[df_listing$room_type == \"Hotel room\", ])$price2"
      ],
      "metadata": {
        "colab": {
          "base_uri": "https://localhost:8080/",
          "height": 121
        },
        "id": "j_0CluWZhc8z",
        "outputId": "9a0b85f6-ce6f-4ed3-d998-e272a4610bf2"
      },
      "execution_count": null,
      "outputs": [
        {
          "output_type": "display_data",
          "data": {
            "text/plain": [
              "   Min. 1st Qu.  Median    Mean 3rd Qu.    Max. \n",
              "    0.0   154.0   294.0   975.6   480.0  9999.0 "
            ]
          },
          "metadata": {}
        },
        {
          "output_type": "stream",
          "name": "stdout",
          "text": [
            "[1] \"a moda é:\"\n"
          ]
        },
        {
          "output_type": "display_data",
          "data": {
            "text/html": [
              "0"
            ],
            "text/markdown": "0",
            "text/latex": "0",
            "text/plain": [
              "[1] 0\n",
              "attr(,\"freq\")\n",
              "[1] 7"
            ]
          },
          "metadata": {}
        },
        {
          "output_type": "display_data",
          "data": {
            "text/html": [
              "<style>\n",
              ".list-inline {list-style: none; margin:0; padding: 0}\n",
              ".list-inline>li {display: inline-block}\n",
              ".list-inline>li:not(:last-child)::after {content: \"\\00b7\"; padding: 0 .5ex}\n",
              "</style>\n",
              "<ol class=list-inline><li>257</li><li>214</li><li>179</li><li>9999</li><li>804</li><li>613</li><li>329</li><li>160</li><li>643</li><li>386</li><li>1492</li><li>200</li><li>579</li><li>0</li><li>220</li><li>197</li><li>479</li><li>563</li><li>436</li><li>85</li><li>229</li><li>481</li><li>206</li><li>101</li><li>9999</li><li>684</li><li>159</li><li>340</li><li>9713</li><li>71</li><li>206</li><li>613</li><li>0</li><li>159</li><li>90</li><li>9999</li><li>317</li><li>350</li><li>85</li><li>0</li><li>6988</li><li>0</li><li>149</li><li>402</li><li>183</li><li>145</li><li>597</li><li>0</li><li>365</li><li>0</li><li>498</li><li>365</li><li>176</li><li>71</li><li>65</li><li>160</li><li>65</li><li>176</li><li>334</li><li>294</li><li>370</li><li>440</li><li>686</li><li>365</li><li>0</li><li>472</li><li>365</li></ol>\n"
            ],
            "text/markdown": "1. 257\n2. 214\n3. 179\n4. 9999\n5. 804\n6. 613\n7. 329\n8. 160\n9. 643\n10. 386\n11. 1492\n12. 200\n13. 579\n14. 0\n15. 220\n16. 197\n17. 479\n18. 563\n19. 436\n20. 85\n21. 229\n22. 481\n23. 206\n24. 101\n25. 9999\n26. 684\n27. 159\n28. 340\n29. 9713\n30. 71\n31. 206\n32. 613\n33. 0\n34. 159\n35. 90\n36. 9999\n37. 317\n38. 350\n39. 85\n40. 0\n41. 6988\n42. 0\n43. 149\n44. 402\n45. 183\n46. 145\n47. 597\n48. 0\n49. 365\n50. 0\n51. 498\n52. 365\n53. 176\n54. 71\n55. 65\n56. 160\n57. 65\n58. 176\n59. 334\n60. 294\n61. 370\n62. 440\n63. 686\n64. 365\n65. 0\n66. 472\n67. 365\n\n\n",
            "text/latex": "\\begin{enumerate*}\n\\item 257\n\\item 214\n\\item 179\n\\item 9999\n\\item 804\n\\item 613\n\\item 329\n\\item 160\n\\item 643\n\\item 386\n\\item 1492\n\\item 200\n\\item 579\n\\item 0\n\\item 220\n\\item 197\n\\item 479\n\\item 563\n\\item 436\n\\item 85\n\\item 229\n\\item 481\n\\item 206\n\\item 101\n\\item 9999\n\\item 684\n\\item 159\n\\item 340\n\\item 9713\n\\item 71\n\\item 206\n\\item 613\n\\item 0\n\\item 159\n\\item 90\n\\item 9999\n\\item 317\n\\item 350\n\\item 85\n\\item 0\n\\item 6988\n\\item 0\n\\item 149\n\\item 402\n\\item 183\n\\item 145\n\\item 597\n\\item 0\n\\item 365\n\\item 0\n\\item 498\n\\item 365\n\\item 176\n\\item 71\n\\item 65\n\\item 160\n\\item 65\n\\item 176\n\\item 334\n\\item 294\n\\item 370\n\\item 440\n\\item 686\n\\item 365\n\\item 0\n\\item 472\n\\item 365\n\\end{enumerate*}\n",
            "text/plain": [
              " [1]  257  214  179 9999  804  613  329  160  643  386 1492  200  579    0  220\n",
              "[16]  197  479  563  436   85  229  481  206  101 9999  684  159  340 9713   71\n",
              "[31]  206  613    0  159   90 9999  317  350   85    0 6988    0  149  402  183\n",
              "[46]  145  597    0  365    0  498  365  176   71   65  160   65  176  334  294\n",
              "[61]  370  440  686  365    0  472  365"
            ]
          },
          "metadata": {}
        }
      ]
    },
    {
      "cell_type": "code",
      "source": [
        "nrow(df_listing$room_type == \"Hotel room\") # nao entendi a moda ser zero! esse valor é oq ue mais aparcece?  nao consigo ver a quantidade de linhas desse atributo "
      ],
      "metadata": {
        "colab": {
          "base_uri": "https://localhost:8080/",
          "height": 34
        },
        "id": "X0CUkxDmhdD0",
        "outputId": "7d15411a-3f57-4a1d-a63d-15ac488b27b7"
      },
      "execution_count": null,
      "outputs": [
        {
          "output_type": "display_data",
          "data": {
            "text/plain": [
              "NULL"
            ]
          },
          "metadata": {}
        }
      ]
    },
    {
      "cell_type": "code",
      "source": [
        "barplot((df_listing[df_listing$room_type == \"Hotel room\", ])$price2)\n",
        "plot((df_listing[df_listing$room_type == \"Hotel room\", ])$price2)\n",
        "boxplot((df_listing[df_listing$room_type == \"Hotel room\", ])$price2)"
      ],
      "metadata": {
        "colab": {
          "base_uri": "https://localhost:8080/",
          "height": 1000
        },
        "id": "-fJOy9HIi6O5",
        "outputId": "16bdfa3e-9ab8-4ef0-a31f-d748c32b9440"
      },
      "execution_count": null,
      "outputs": [
        {
          "output_type": "display_data",
          "data": {
            "text/plain": [
              "plot without title"
            ],
            "image/png": "[encoded data removed]"
          },
          "metadata": {
            "image/png": {
              "width": 420,
              "height": 420
            }
          }
        },
        {
          "output_type": "display_data",
          "data": {
            "text/plain": [
              "plot without title"
            ],
            "image/png": "[encoded data removed]"
          },
          "metadata": {
            "image/png": {
              "width": 420,
              "height": 420
            }
          }
        },
        {
          "output_type": "display_data",
          "data": {
            "text/plain": [
              "plot without title"
            ],
            "image/png": "[encoded data removed]"
          },
          "metadata": {
            "image/png": {
              "width": 420,
              "height": 420
            }
          }
        }
      ]
    },
    {
      "cell_type": "markdown",
      "source": [
        "Quarto privativo"
      ],
      "metadata": {
        "id": "igbgZObbjmoZ"
      }
    },
    {
      "cell_type": "code",
      "source": [
        "#Quarto privativo\n",
        "summary((df_listing[df_listing$room_type == 'Private room', ])$price2)\n",
        "#Mean((df_listing[df_listing$room_type == 'Private room', ])$price2)\n",
        "#Median((df_listing[df_listing$room_type == 'Private room', ])$price2)\n",
        "print('a moda é:')\n",
        "Mode((df_listing[df_listing$room_type == 'Private room', ])$price2) # nao consegui colocar na mesma linha "
      ],
      "metadata": {
        "colab": {
          "base_uri": "https://localhost:8080/",
          "height": 86
        },
        "id": "2o2Mjk13Yk9L",
        "outputId": "db33c3ab-81c1-4f2c-c44d-20dd1009139b"
      },
      "execution_count": null,
      "outputs": [
        {
          "output_type": "display_data",
          "data": {
            "text/plain": [
              "    Min.  1st Qu.   Median     Mean  3rd Qu.     Max. \n",
              "    33.0    108.0    180.0    458.8    310.0 130000.0 "
            ]
          },
          "metadata": {}
        },
        {
          "output_type": "stream",
          "name": "stdout",
          "text": [
            "[1] \"a moda é:\"\n"
          ]
        },
        {
          "output_type": "display_data",
          "data": {
            "text/html": [
              "150"
            ],
            "text/markdown": "150",
            "text/latex": "150",
            "text/plain": [
              "[1] 150\n",
              "attr(,\"freq\")\n",
              "[1] 265"
            ]
          },
          "metadata": {}
        }
      ]
    },
    {
      "cell_type": "code",
      "source": [
        "(df_listing[df_listing$room_type == 'Private room', ])$price2  #olhando a lista de precos\n"
      ],
      "metadata": {
        "colab": {
          "base_uri": "https://localhost:8080/",
          "height": 156
        },
        "id": "SzSY3nR_el0f",
        "outputId": "60239859-10d0-419a-f9c4-d16e469ae3a8"
      },
      "execution_count": null,
      "outputs": [
        {
          "output_type": "display_data",
          "data": {
            "text/html": [
              "<style>\n",
              ".list-inline {list-style: none; margin:0; padding: 0}\n",
              ".list-inline>li {display: inline-block}\n",
              ".list-inline>li:not(:last-child)::after {content: \"\\00b7\"; padding: 0 .5ex}\n",
              "</style>\n",
              "<ol class=list-inline><li>150</li><li>180</li><li>500</li><li>200</li><li>220</li><li>700</li><li>120</li><li>70</li><li>51</li><li>56</li><li>773</li><li>180</li><li>300</li><li>377</li><li>773</li><li>250</li><li>155</li><li>50</li><li>126</li><li>300</li><li>80</li><li>2500</li><li>75</li><li>1300</li><li>82</li><li>3000</li><li>300</li><li>140</li><li>140</li><li>195</li><li>51627</li><li>90</li><li>90</li><li>120</li><li>200</li><li>207</li><li>110</li><li>105</li><li>250</li><li>336</li><li>210</li><li>150</li><li>75</li><li>99</li><li>159</li><li>350</li><li>250</li><li>110</li><li>300</li><li>54</li><li>120</li><li>250</li><li>150</li><li>145</li><li>1000</li><li>79</li><li>70</li><li>150</li><li>135</li><li>108</li><li>955</li><li>240</li><li>250</li><li>80</li><li>190</li><li>700</li><li>70</li><li>150</li><li>379</li><li>130</li><li>95</li><li>120</li><li>230</li><li>717</li><li>200</li><li>60</li><li>779</li><li>150</li><li>140</li><li>180</li><li>400</li><li>160</li><li>110</li><li>443</li><li>267</li><li>150</li><li>150</li><li>233</li><li>60</li><li>400</li><li>114</li><li>96</li><li>54</li><li>189</li><li>71</li><li>100</li><li>74</li><li>120</li><li>85</li><li>100</li><li>106</li><li>298</li><li>210</li><li>150</li><li>207</li><li>99</li><li>180</li><li>500</li><li>230</li><li>55</li><li>150</li><li>202</li><li>150</li><li>429</li><li>180</li><li>83</li><li>200</li><li>350</li><li>3141</li><li>516</li><li>5000</li><li>100</li><li>1291</li><li>96</li><li>350</li><li>196</li><li>203</li><li>350</li><li>200</li><li>250</li><li>100</li><li>516</li><li>100</li><li>217</li><li>336</li><li>200</li><li>293</li><li>250</li><li>250</li><li>102</li><li>1000</li><li>924</li><li>54</li><li>99</li><li>400</li><li>595</li><li>128</li><li>150</li><li>400</li><li>100</li><li>65</li><li>291</li><li>282</li><li>73</li><li>70</li><li>169</li><li>70</li><li>100</li><li>120</li><li>120</li><li>318</li><li>71</li><li>200</li><li>72</li><li>95</li><li>200</li><li>150</li><li>220</li><li>850</li><li>750</li><li>600</li><li>200</li><li>65</li><li>299</li><li>100</li><li>120</li><li>157</li><li>300</li><li>350</li><li>150</li><li>350</li><li>120</li><li>164</li><li>80</li><li>750</li><li>620</li><li>575</li><li>200</li><li>174</li><li>330</li><li>75</li><li>248</li><li>200</li><li>170</li><li>1033</li><li>118</li><li>114</li><li>200</li><li>190</li><li>960</li><li>⋯</li><li>196</li><li>98</li><li>150</li><li>345</li><li>87</li><li>100</li><li>100</li><li>555</li><li>350</li><li>110</li><li>150</li><li>300</li><li>199</li><li>170</li><li>50</li><li>120</li><li>500</li><li>990</li><li>130</li><li>140</li><li>132</li><li>250</li><li>163</li><li>134</li><li>550</li><li>66</li><li>120</li><li>200</li><li>114</li><li>200</li><li>427</li><li>1265</li><li>5000</li><li>70</li><li>159</li><li>150</li><li>170</li><li>180</li><li>350</li><li>110</li><li>600</li><li>120</li><li>200</li><li>131</li><li>350</li><li>600</li><li>190</li><li>150</li><li>250</li><li>200</li><li>120</li><li>330</li><li>800</li><li>375</li><li>250</li><li>150</li><li>96</li><li>220</li><li>171</li><li>160</li><li>149</li><li>180</li><li>250</li><li>350</li><li>96</li><li>300</li><li>426</li><li>1600</li><li>106</li><li>77</li><li>150</li><li>990</li><li>335</li><li>70</li><li>206</li><li>120</li><li>145</li><li>120</li><li>441</li><li>200</li><li>300</li><li>401</li><li>150</li><li>64</li><li>90</li><li>320</li><li>300</li><li>150</li><li>180</li><li>180</li><li>990</li><li>200</li><li>1283</li><li>1392</li><li>515</li><li>4638</li><li>645</li><li>300</li><li>89</li><li>2500</li><li>170</li><li>160</li><li>114</li><li>490</li><li>73919</li><li>75</li><li>330</li><li>600</li><li>126</li><li>50</li><li>350</li><li>220</li><li>200</li><li>1031</li><li>180</li><li>380</li><li>200</li><li>170</li><li>139</li><li>180</li><li>500</li><li>500</li><li>500</li><li>800</li><li>500</li><li>230</li><li>197</li><li>200</li><li>990</li><li>990</li><li>95</li><li>500</li><li>1082</li><li>89</li><li>490</li><li>2319</li><li>247</li><li>2200</li><li>100</li><li>300</li><li>300</li><li>300</li><li>120</li><li>109</li><li>1222</li><li>773</li><li>361</li><li>201</li><li>134</li><li>314</li><li>299</li><li>150</li><li>70</li><li>200</li><li>180</li><li>500</li><li>250</li><li>158</li><li>250</li><li>184</li><li>80</li><li>170</li><li>80</li><li>250</li><li>1000</li><li>293</li><li>350</li><li>180</li><li>50</li><li>300</li><li>250</li><li>201</li><li>515</li><li>258</li><li>773</li><li>450</li><li>350</li><li>1600</li><li>180</li><li>1214</li><li>2766</li><li>300</li><li>127</li><li>170</li><li>700</li><li>375</li><li>93</li><li>214</li><li>194</li><li>136</li><li>150</li><li>160</li><li>500</li><li>516</li><li>700</li><li>250</li><li>222</li><li>195</li><li>89</li><li>170</li></ol>\n"
            ],
            "text/markdown": "1. 150\n2. 180\n3. 500\n4. 200\n5. 220\n6. 700\n7. 120\n8. 70\n9. 51\n10. 56\n11. 773\n12. 180\n13. 300\n14. 377\n15. 773\n16. 250\n17. 155\n18. 50\n19. 126\n20. 300\n21. 80\n22. 2500\n23. 75\n24. 1300\n25. 82\n26. 3000\n27. 300\n28. 140\n29. 140\n30. 195\n31. 51627\n32. 90\n33. 90\n34. 120\n35. 200\n36. 207\n37. 110\n38. 105\n39. 250\n40. 336\n41. 210\n42. 150\n43. 75\n44. 99\n45. 159\n46. 350\n47. 250\n48. 110\n49. 300\n50. 54\n51. 120\n52. 250\n53. 150\n54. 145\n55. 1000\n56. 79\n57. 70\n58. 150\n59. 135\n60. 108\n61. 955\n62. 240\n63. 250\n64. 80\n65. 190\n66. 700\n67. 70\n68. 150\n69. 379\n70. 130\n71. 95\n72. 120\n73. 230\n74. 717\n75. 200\n76. 60\n77. 779\n78. 150\n79. 140\n80. 180\n81. 400\n82. 160\n83. 110\n84. 443\n85. 267\n86. 150\n87. 150\n88. 233\n89. 60\n90. 400\n91. 114\n92. 96\n93. 54\n94. 189\n95. 71\n96. 100\n97. 74\n98. 120\n99. 85\n100. 100\n101. 106\n102. 298\n103. 210\n104. 150\n105. 207\n106. 99\n107. 180\n108. 500\n109. 230\n110. 55\n111. 150\n112. 202\n113. 150\n114. 429\n115. 180\n116. 83\n117. 200\n118. 350\n119. 3141\n120. 516\n121. 5000\n122. 100\n123. 1291\n124. 96\n125. 350\n126. 196\n127. 203\n128. 350\n129. 200\n130. 250\n131. 100\n132. 516\n133. 100\n134. 217\n135. 336\n136. 200\n137. 293\n138. 250\n139. 250\n140. 102\n141. 1000\n142. 924\n143. 54\n144. 99\n145. 400\n146. 595\n147. 128\n148. 150\n149. 400\n150. 100\n151. 65\n152. 291\n153. 282\n154. 73\n155. 70\n156. 169\n157. 70\n158. 100\n159. 120\n160. 120\n161. 318\n162. 71\n163. 200\n164. 72\n165. 95\n166. 200\n167. 150\n168. 220\n169. 850\n170. 750\n171. 600\n172. 200\n173. 65\n174. 299\n175. 100\n176. 120\n177. 157\n178. 300\n179. 350\n180. 150\n181. 350\n182. 120\n183. 164\n184. 80\n185. 750\n186. 620\n187. 575\n188. 200\n189. 174\n190. 330\n191. 75\n192. 248\n193. 200\n194. 170\n195. 1033\n196. 118\n197. 114\n198. 200\n199. 190\n200. 960\n201. ⋯\n202. 196\n203. 98\n204. 150\n205. 345\n206. 87\n207. 100\n208. 100\n209. 555\n210. 350\n211. 110\n212. 150\n213. 300\n214. 199\n215. 170\n216. 50\n217. 120\n218. 500\n219. 990\n220. 130\n221. 140\n222. 132\n223. 250\n224. 163\n225. 134\n226. 550\n227. 66\n228. 120\n229. 200\n230. 114\n231. 200\n232. 427\n233. 1265\n234. 5000\n235. 70\n236. 159\n237. 150\n238. 170\n239. 180\n240. 350\n241. 110\n242. 600\n243. 120\n244. 200\n245. 131\n246. 350\n247. 600\n248. 190\n249. 150\n250. 250\n251. 200\n252. 120\n253. 330\n254. 800\n255. 375\n256. 250\n257. 150\n258. 96\n259. 220\n260. 171\n261. 160\n262. 149\n263. 180\n264. 250\n265. 350\n266. 96\n267. 300\n268. 426\n269. 1600\n270. 106\n271. 77\n272. 150\n273. 990\n274. 335\n275. 70\n276. 206\n277. 120\n278. 145\n279. 120\n280. 441\n281. 200\n282. 300\n283. 401\n284. 150\n285. 64\n286. 90\n287. 320\n288. 300\n289. 150\n290. 180\n291. 180\n292. 990\n293. 200\n294. 1283\n295. 1392\n296. 515\n297. 4638\n298. 645\n299. 300\n300. 89\n301. 2500\n302. 170\n303. 160\n304. 114\n305. 490\n306. 73919\n307. 75\n308. 330\n309. 600\n310. 126\n311. 50\n312. 350\n313. 220\n314. 200\n315. 1031\n316. 180\n317. 380\n318. 200\n319. 170\n320. 139\n321. 180\n322. 500\n323. 500\n324. 500\n325. 800\n326. 500\n327. 230\n328. 197\n329. 200\n330. 990\n331. 990\n332. 95\n333. 500\n334. 1082\n335. 89\n336. 490\n337. 2319\n338. 247\n339. 2200\n340. 100\n341. 300\n342. 300\n343. 300\n344. 120\n345. 109\n346. 1222\n347. 773\n348. 361\n349. 201\n350. 134\n351. 314\n352. 299\n353. 150\n354. 70\n355. 200\n356. 180\n357. 500\n358. 250\n359. 158\n360. 250\n361. 184\n362. 80\n363. 170\n364. 80\n365. 250\n366. 1000\n367. 293\n368. 350\n369. 180\n370. 50\n371. 300\n372. 250\n373. 201\n374. 515\n375. 258\n376. 773\n377. 450\n378. 350\n379. 1600\n380. 180\n381. 1214\n382. 2766\n383. 300\n384. 127\n385. 170\n386. 700\n387. 375\n388. 93\n389. 214\n390. 194\n391. 136\n392. 150\n393. 160\n394. 500\n395. 516\n396. 700\n397. 250\n398. 222\n399. 195\n400. 89\n401. 170\n\n\n",
            "text/latex": "\\begin{enumerate*}\n\\item 150\n\\item 180\n\\item 500\n\\item 200\n\\item 220\n\\item 700\n\\item 120\n\\item 70\n\\item 51\n\\item 56\n\\item 773\n\\item 180\n\\item 300\n\\item 377\n\\item 773\n\\item 250\n\\item 155\n\\item 50\n\\item 126\n\\item 300\n\\item 80\n\\item 2500\n\\item 75\n\\item 1300\n\\item 82\n\\item 3000\n\\item 300\n\\item 140\n\\item 140\n\\item 195\n\\item 51627\n\\item 90\n\\item 90\n\\item 120\n\\item 200\n\\item 207\n\\item 110\n\\item 105\n\\item 250\n\\item 336\n\\item 210\n\\item 150\n\\item 75\n\\item 99\n\\item 159\n\\item 350\n\\item 250\n\\item 110\n\\item 300\n\\item 54\n\\item 120\n\\item 250\n\\item 150\n\\item 145\n\\item 1000\n\\item 79\n\\item 70\n\\item 150\n\\item 135\n\\item 108\n\\item 955\n\\item 240\n\\item 250\n\\item 80\n\\item 190\n\\item 700\n\\item 70\n\\item 150\n\\item 379\n\\item 130\n\\item 95\n\\item 120\n\\item 230\n\\item 717\n\\item 200\n\\item 60\n\\item 779\n\\item 150\n\\item 140\n\\item 180\n\\item 400\n\\item 160\n\\item 110\n\\item 443\n\\item 267\n\\item 150\n\\item 150\n\\item 233\n\\item 60\n\\item 400\n\\item 114\n\\item 96\n\\item 54\n\\item 189\n\\item 71\n\\item 100\n\\item 74\n\\item 120\n\\item 85\n\\item 100\n\\item 106\n\\item 298\n\\item 210\n\\item 150\n\\item 207\n\\item 99\n\\item 180\n\\item 500\n\\item 230\n\\item 55\n\\item 150\n\\item 202\n\\item 150\n\\item 429\n\\item 180\n\\item 83\n\\item 200\n\\item 350\n\\item 3141\n\\item 516\n\\item 5000\n\\item 100\n\\item 1291\n\\item 96\n\\item 350\n\\item 196\n\\item 203\n\\item 350\n\\item 200\n\\item 250\n\\item 100\n\\item 516\n\\item 100\n\\item 217\n\\item 336\n\\item 200\n\\item 293\n\\item 250\n\\item 250\n\\item 102\n\\item 1000\n\\item 924\n\\item 54\n\\item 99\n\\item 400\n\\item 595\n\\item 128\n\\item 150\n\\item 400\n\\item 100\n\\item 65\n\\item 291\n\\item 282\n\\item 73\n\\item 70\n\\item 169\n\\item 70\n\\item 100\n\\item 120\n\\item 120\n\\item 318\n\\item 71\n\\item 200\n\\item 72\n\\item 95\n\\item 200\n\\item 150\n\\item 220\n\\item 850\n\\item 750\n\\item 600\n\\item 200\n\\item 65\n\\item 299\n\\item 100\n\\item 120\n\\item 157\n\\item 300\n\\item 350\n\\item 150\n\\item 350\n\\item 120\n\\item 164\n\\item 80\n\\item 750\n\\item 620\n\\item 575\n\\item 200\n\\item 174\n\\item 330\n\\item 75\n\\item 248\n\\item 200\n\\item 170\n\\item 1033\n\\item 118\n\\item 114\n\\item 200\n\\item 190\n\\item 960\n\\item ⋯\n\\item 196\n\\item 98\n\\item 150\n\\item 345\n\\item 87\n\\item 100\n\\item 100\n\\item 555\n\\item 350\n\\item 110\n\\item 150\n\\item 300\n\\item 199\n\\item 170\n\\item 50\n\\item 120\n\\item 500\n\\item 990\n\\item 130\n\\item 140\n\\item 132\n\\item 250\n\\item 163\n\\item 134\n\\item 550\n\\item 66\n\\item 120\n\\item 200\n\\item 114\n\\item 200\n\\item 427\n\\item 1265\n\\item 5000\n\\item 70\n\\item 159\n\\item 150\n\\item 170\n\\item 180\n\\item 350\n\\item 110\n\\item 600\n\\item 120\n\\item 200\n\\item 131\n\\item 350\n\\item 600\n\\item 190\n\\item 150\n\\item 250\n\\item 200\n\\item 120\n\\item 330\n\\item 800\n\\item 375\n\\item 250\n\\item 150\n\\item 96\n\\item 220\n\\item 171\n\\item 160\n\\item 149\n\\item 180\n\\item 250\n\\item 350\n\\item 96\n\\item 300\n\\item 426\n\\item 1600\n\\item 106\n\\item 77\n\\item 150\n\\item 990\n\\item 335\n\\item 70\n\\item 206\n\\item 120\n\\item 145\n\\item 120\n\\item 441\n\\item 200\n\\item 300\n\\item 401\n\\item 150\n\\item 64\n\\item 90\n\\item 320\n\\item 300\n\\item 150\n\\item 180\n\\item 180\n\\item 990\n\\item 200\n\\item 1283\n\\item 1392\n\\item 515\n\\item 4638\n\\item 645\n\\item 300\n\\item 89\n\\item 2500\n\\item 170\n\\item 160\n\\item 114\n\\item 490\n\\item 73919\n\\item 75\n\\item 330\n\\item 600\n\\item 126\n\\item 50\n\\item 350\n\\item 220\n\\item 200\n\\item 1031\n\\item 180\n\\item 380\n\\item 200\n\\item 170\n\\item 139\n\\item 180\n\\item 500\n\\item 500\n\\item 500\n\\item 800\n\\item 500\n\\item 230\n\\item 197\n\\item 200\n\\item 990\n\\item 990\n\\item 95\n\\item 500\n\\item 1082\n\\item 89\n\\item 490\n\\item 2319\n\\item 247\n\\item 2200\n\\item 100\n\\item 300\n\\item 300\n\\item 300\n\\item 120\n\\item 109\n\\item 1222\n\\item 773\n\\item 361\n\\item 201\n\\item 134\n\\item 314\n\\item 299\n\\item 150\n\\item 70\n\\item 200\n\\item 180\n\\item 500\n\\item 250\n\\item 158\n\\item 250\n\\item 184\n\\item 80\n\\item 170\n\\item 80\n\\item 250\n\\item 1000\n\\item 293\n\\item 350\n\\item 180\n\\item 50\n\\item 300\n\\item 250\n\\item 201\n\\item 515\n\\item 258\n\\item 773\n\\item 450\n\\item 350\n\\item 1600\n\\item 180\n\\item 1214\n\\item 2766\n\\item 300\n\\item 127\n\\item 170\n\\item 700\n\\item 375\n\\item 93\n\\item 214\n\\item 194\n\\item 136\n\\item 150\n\\item 160\n\\item 500\n\\item 516\n\\item 700\n\\item 250\n\\item 222\n\\item 195\n\\item 89\n\\item 170\n\\end{enumerate*}\n",
            "text/plain": [
              "   [1]    150    180    500    200    220    700    120     70     51     56\n",
              "  [11]    773    180    300    377    773    250    155     50    126    300\n",
              "  [21]     80   2500     75   1300     82   3000    300    140    140    195\n",
              "  [31]  51627     90     90    120    200    207    110    105    250    336\n",
              "  [41]    210    150     75     99    159    350    250    110    300     54\n",
              "  [51]    120    250    150    145   1000     79     70    150    135    108\n",
              "  [61]    955    240    250     80    190    700     70    150    379    130\n",
              "  [71]     95    120    230    717    200     60    779    150    140    180\n",
              "  [81]    400    160    110    443    267    150    150    233     60    400\n",
              "  [91]    114     96     54    189     71    100     74    120     85    100\n",
              " [101]    106    298    210    150    207     99    180    500    230     55\n",
              " [111]    150    202    150    429    180     83    200    350   3141    516\n",
              " [121]   5000    100   1291     96    350    196    203    350    200    250\n",
              " [131]    100    516    100    217    336    200    293    250    250    102\n",
              " [141]   1000    924     54     99    400    595    128    150    400    100\n",
              " [151]     65    291    282     73     70    169     70    100    120    120\n",
              " [161]    318     71    200     72     95    200    150    220    850    750\n",
              " [171]    600    200     65    299    100    120    157    300    350    150\n",
              " [181]    350    120    164     80    750    620    575    200    174    330\n",
              " [191]     75    248    200    170   1033    118    114    200    190    960\n",
              " [201]    250    387    220    100    432    150    100    150     55    125\n",
              " [211]    530     90    181     80    280    164    250    190    310    174\n",
              " [221]    227    155    401    220    790    180    250    425    150   1291\n",
              " [231]     43    700    149    174    906    104    110    120    300    130\n",
              " [241]   1200     80     58     70    120    150     64  10000     90    200\n",
              " [251]    400    207    106    250     70     85    400   1000    387    150\n",
              " [261]    207    790    100    217    600    150    413    180     80   1027\n",
              " [271]    300     60    774    144    739    120    500    100    100    180\n",
              " [281]    278    121    463    259    207   1033    350    107    361    232\n",
              " [291]    139   1291     89    207    270    500    200     53     85    350\n",
              " [301]    150    700    800    130    213     86     96    180   1136    170\n",
              " [311]    600     88    300    250    118    516    200    450    586     95\n",
              " [321]    160    258    310    140     96    387    246    185    320   2000\n",
              " [331]    155    250     55    600    204    100     60    457    295    190\n",
              " [341]    465    190     60    300    133    150    717    495     89    170\n",
              " [351]    100     70    230    150    108    450    120    158    175    448\n",
              " [361]    127    110    500    150    800   1000    515     90    100    160\n",
              " [371]    420    450    100     61   1001   5000    100    336    489    774\n",
              " [381]    272    133     70    257    179    299    368    400    155    250\n",
              " [391]    230    200    120    380  25000    250    382    139   1719    130\n",
              " [401]    300    200    516     99    300    140    300   1000     66   1000\n",
              " [411]    150    150   1368    119    543    516    150    459    183    413\n",
              " [421]    774    350    200    136     56    150    110    730    600    310\n",
              " [431]    136   3035    700     65    188    200    207    350    300    214\n",
              " [441]  20000    327    174     98    268    258    100     97     73    186\n",
              " [451]    270    220    206    170     65    179    130     92    200    343\n",
              " [461]    245     90     70     80    150     72    148    929    500     96\n",
              " [471]    109    388   1000     87    160    200    150    300    210    210\n",
              " [481]    210    300    129    136     70     98    199    199    250    132\n",
              " [491]    200     70    186    155    230    170    700    200   1807    400\n",
              " [501]    180     80     80    826    250   1000    336    201    413     60\n",
              " [511]    250    500    300    671     51    155    100    350    149     83\n",
              " [521]    181    150    190    186    600    154    129     70    150    259\n",
              " [531]    300    250    180     81    650    800    900    200    260     90\n",
              " [541]   2500     60     60    258    250    450    230    116    400    150\n",
              " [551]     90    100    150    243    155     55    160    180    120    200\n",
              " [561]    516     65    197     90   2600     88    190    170    132    250\n",
              " [571]    160    695    180    200    150    120     73    300    300    194\n",
              " [581]    180     70    259     70    120    314    250    300    190    145\n",
              " [591]    150    298    103    800    100    200    750    216     98    120\n",
              " [601]    109    296     91   1086   1576    100    256    190   1549    300\n",
              " [611]    100    250     70    901    750    500    650     95    400     74\n",
              " [621]   1033     98    300   1000     58    130    100     80    150    514\n",
              " [631]     90     92     80     55    516    250    348    150    600    450\n",
              " [641]    361     50    480     70    130     99    583    190    120     89\n",
              " [651]    119    210   1500    130    130     77    200    100    150    200\n",
              " [661]    157     60    350     54     76    170    100    150     64    420\n",
              " [671]     75    500    260    260    170    200    250     48    350     70\n",
              " [681]    258    300     75     99    801   1033     55    250    103    163\n",
              " [691]    159    149    155     70     70    398    120    100    200     90\n",
              " [701]     98    150    130    230    120    200    200    200    290    135\n",
              " [711]    400    100    139    180    173    145     89     80    150    220\n",
              " [721]    120    148    200    250    272    516    350    100     79    400\n",
              " [731]    100     60    200    120    136     93    258    600    406    100\n",
              " [741]    180   1500    280     77    130    100   1027     80    370    136\n",
              " [751]    800    168    390    516    250    125   4565    176     89    164\n",
              " [761]    175     91    185    150     99    250     70     50    350    204\n",
              " [771]     51   8246    150    250    350    250    197    826    200    198\n",
              " [781]    250    300    130    516    400    210    207    106    320    106\n",
              " [791]    100    125    700     86    300     65    227    450    200    150\n",
              " [801]     58    280    410    250    150    400    400    100    200    290\n",
              " [811]    300    180    159    333    390    100    800    105    151    230\n",
              " [821]     96    100    130    516    357    300     99     65    196    248\n",
              " [831]    240     85    155     57     95     68    207    100    150     57\n",
              " [841]    200    220     92    550    150    450    150    250    140     95\n",
              " [851]    247     97    111    310    380    812    135    100    100    120\n",
              " [861]    650    136    300    300    230    120    100    128    189    110\n",
              " [871]    350    250    264    717    200    250    100     60    500    150\n",
              " [881]    516    125     98    179    120    358    194    150    166    160\n",
              " [891]    220    200   1900     75    200    300    200    120    100    379\n",
              " [901]    100    100    130    165    168    110    110    500    480    600\n",
              " [911]     97    200     98    284    229     72   1027    260    790    170\n",
              " [921]    160    220    213   1200    374    201    120    189    150    100\n",
              " [931]   1000    800    200    150    164    103    280     90    120    100\n",
              " [941]    298    290     58    164    209   1226    134    110     95    114\n",
              " [951]     54    120    148    250    400  10500    123    360    121     62\n",
              " [961]    593     77    260     69    150    200    110    341    900     90\n",
              " [971]    124     70    146     99    250    600     85    300    800    750\n",
              " [981]    135    450    503   1000     65     91    400    260    800     95\n",
              " [991]     60    102     75    257    130   1033    103    120     50    150\n",
              "[1001]    198    300    272     98   5000   2715     73    250    103    128\n",
              "[1011]    386    454    516    230    743    160    380    148    259    400\n",
              "[1021]    300    134    490    200    129    150    700     90    180    164\n",
              "[1031]    300    161    109    223     77    120    700   1358    235    450\n",
              "[1041]     90   5430    175    300    200    112    350    158    185    361\n",
              "[1051]    400    580     65     76    120    486    153     50    150    400\n",
              "[1061]    545     81    250    107    243    280    171     71    206    140\n",
              "[1071]    300    906     74     60    400    200    210    120    139    120\n",
              "[1081]     52   1500     75    229    108    450    120    110   2000    412\n",
              "[1091]    515    180    300    175     55    190    136    300   1271    400\n",
              "[1101]    160    150    457   1000     70     57    197    150    179   2000\n",
              "[1111]    227    200    543    158     75    170    100    261    350     50\n",
              "[1121]     78    500    120    250    115    129     87    108    185     90\n",
              "[1131]    600    135    784    220    150     58    400    130    100    327\n",
              "[1141]    200    262     83    531    199     79    140     52    159    150\n",
              "[1151]    500    207    178    190    150    214   1031    550    100     95\n",
              "[1161]    100     65    118     80    200    516    436    221    200    310\n",
              "[1171]    127    258    200    137    111     60     90    500    135    219\n",
              "[1181]     88    170    350     62    100    300    250     80    400    250\n",
              "[1191]    180    245    250    436     56    170    150     48     89    114\n",
              "[1201]    242    146     80    300    200     90     58    250    900    120\n",
              "[1211]     66    414   1100     72    450     73   2000    250    300    250\n",
              "[1221]    158    120    214     81    165    104     52     51    250     61\n",
              "[1231]     75    155     65    150    350    120    111     50     66    150\n",
              "[1241]    300   1288    250    150     95    130     60    187    500    309\n",
              "[1251]   1000    150   1523     55    516    516    197     50    110    320\n",
              "[1261]    150    154    801     40    402     80    200    130    250    614\n",
              "[1271]    307    300    246   1000    280    160    140    150    250   2000\n",
              "[1281]     52    380   1000     70    150    100    109    381     90    450\n",
              "[1291]    300    748     70   1549    268    774    350    200    200    300\n",
              "[1301]    345    160    107     85     54    140    350    420    390    191\n",
              "[1311]     91    361    190    180    300    187     52   1291    300    170\n",
              "[1321]    200    157    140    350     55    100    230     92     50     68\n",
              "[1331]    200    900     90    998    214    320    313    543    130     87\n",
              "[1341]    209     56    350     68    100    170     96    180    100    160\n",
              "[1351]     95     65     80    180     80     85    108    174     93    120\n",
              "[1361]    281    121    765    166    168    700     80    100     60     95\n",
              "[1371]    232    100    100    600     89     98    120     61    260     95\n",
              "[1381]    120    200    159    150    130    900    250    300    129     95\n",
              "[1391]    500    700    400    200     79    170    220    350    450    150\n",
              "[1401]     95     90    180    400    119    165    121    100    200    200\n",
              "[1411]    100    240    120   1641    543    556     50    180     55     86\n",
              "[1421]    182    413    250    250    125    128    220   8897   1000    300\n",
              "[1431]    246    152    200    120     80     52    150    209    272   1000\n",
              "[1441]    100    100    160   1000    350     60    500    723    250    167\n",
              "[1451]   1069    350    400   1251    200    150    750    700    380    299\n",
              "[1461]    130    140    112    136    439    120    190    100    136    170\n",
              "[1471]    130    250    220    140    115   2013    413    480   1000     80\n",
              "[1481]    250    200    583    143    100    250    627     56     99     73\n",
              "[1491]    150    390    160    180    250    102   1000     90    150     68\n",
              "[1501]    250    250    160     98    120    213    500    820    600    170\n",
              "[1511]     69    110    220     56     80     78    251    250    139    400\n",
              "[1521]    250    180   2200    119    300     60    318    165    191    200\n",
              "[1531]    284    140    214     60    380    270    235    815     63    197\n",
              "[1541]     80    200    120    470    175    543    104    148    100    150\n",
              "[1551]    113    120    124    596    220   1527    219     95    127     71\n",
              "[1561]    568     50    199    310    277     51    300    100    900   2000\n",
              "[1571]    129    100     55    500    293    300    200     90     52     60\n",
              "[1581]     51    228    200    250    112    350    150    100    774    150\n",
              "[1591]    250    302    212    200    111   1549    250    106    150    250\n",
              "[1601]    652    300    190    700     62    500    362    400    170    599\n",
              "[1611]     89    161     90     69    457    250    110     85    200    150\n",
              "[1621]    200    280    220     91    146    110   1000    200    186    100\n",
              "[1631]   1000     92    350    117    260    141    156    250    826    774\n",
              "[1641]    264    150    149    150    120    425    300    513    900    151\n",
              "[1651]    180    280     70     62   2347    130     88    106    280     57\n",
              "[1661]    929    583    259    158     95    400    147    439    150    140\n",
              "[1671]     91     57    434     55    250   1000    220    500    185    100\n",
              "[1681]    160    625    250   5163     79    151     90    134    180    400\n",
              "[1691]    800    600    700    150    107    300    221    240     70    100\n",
              "[1701]    253    249    220    184    120    598    209     95     60     75\n",
              "[1711]     55    190    150     75     86    220    115    250    195    110\n",
              "[1721]    196     90    253     90    160     50    158     74    169    253\n",
              "[1731]    120    220    285    120     70    319    250    130    643    480\n",
              "[1741]    120    280    700    150   1030     51   5000    300    250    586\n",
              "[1751]    292    708    699    516    320    151     95    155     85    220\n",
              "[1761]    133    160   9000    100    450    250    120    671    130    201\n",
              "[1771]    120    350    170    726    200    601    112    351    191   1000\n",
              "[1781]    500    145    200     61     72    217    250    516    130    200\n",
              "[1791]    180    121    110    240     75    217    230    150    210     58\n",
              "[1801]    620    108    130    105     91    618     87     80    501     97\n",
              "[1811]    100     80     54    309    150     60     50     59     62    297\n",
              "[1821]    250     90    299     81     80     70     90    107    700    348\n",
              "[1831]    240     80     80     52     60    650    160    150    100    160\n",
              "[1841]     65    257    200    500    155     59     89    150    360    100\n",
              "[1851]     80    217    220    215    136    150    120    320    200     95\n",
              "[1861]     80    300    450    139    201     86     81    150    100     79\n",
              "[1871]    550    166    200    144    200    250    700   9429    240     86\n",
              "[1881]    250     80    200    226    103    239    180    119    193    114\n",
              "[1891]    220    237   1000   5000    300    200    200    272    135   1000\n",
              "[1901]     80    179    240    160    516    170    550    170    413    250\n",
              "[1911]    200     50    207    120    133    125    107    300     65    135\n",
              "[1921]    400    250     65    200    230   2500   1300    120    120    129\n",
              "[1931]    102    217     55    200    200    200   1474    161    170     65\n",
              "[1941]    401     64    875     60    234    600    245    120    100     53\n",
              "[1951]    127     51    135    100    120     88    105    360     60    194\n",
              "[1961]     99   1136     85    279    345    120    774    165     87    247\n",
              "[1971]    300    250    450     52    290     71    113    220     77    100\n",
              "[1981]    234     75    207    110     50     89    109    440     99    436\n",
              "[1991]     90    100     50    120    110    190    192    965    220     85\n",
              "[2001]    150    250   1379    240    130    100     99    543    150     80\n",
              "[2011]    126    200    298    516    129    251     80     89     68    645\n",
              "[2021]     69    121    520    205     99    107    150    249    280    220\n",
              "[2031]    110    264   1100    200    170    100    207    700    190    361\n",
              "[2041]    130    500    171    886    310    185     80    500    200    620\n",
              "[2051]    250    465    290    180   1300    193    600    150    109    200\n",
              "[2061]     74    150    790    700    361    250    136    218     75    199\n",
              "[2071]     92     95   6508    200    400    200    350    150    169     53\n",
              "[2081]     85    180     59    150    140    135     70    300    400    170\n",
              "[2091]    280    240    490    232    355    180   1400     90    146    176\n",
              "[2101]    260    180    130    157     80    120     90    110    100    150\n",
              "[2111]     98     60   1000     57    120    200    250    199    170    140\n",
              "[2121]    108    300     93    100    140    321    180     89    214     72\n",
              "[2131]    120     85    150    105    259    110    180    321   1033    640\n",
              "[2141]     80    500     90     75    155    150    260     55    101     51\n",
              "[2151]    280    300     89    902    329    180    361   3000     60    200\n",
              "[2161]    110     94    620    500     80   1626    170    171    191    295\n",
              "[2171]     69    160    300    361    350    400   1064     90    150    100\n",
              "[2181]    350    179    500    620    184    155   9999     81    252    350\n",
              "[2191]    250    325    220    136     98    258    280    568    150    283\n",
              "[2201]    301    209    149    130    450    400    207     69    150     90\n",
              "[2211]     90    158    150     94    200    290    140     89    434    350\n",
              "[2221]     91    150    284    206    299    164     70    120    200    500\n",
              "[2231]    350    450     74     62     99    240     55    159    120     86\n",
              "[2241]    226    159    516    108     79    170    395    121    300     68\n",
              "[2251]    100  25000    600    250     89    460    121    123    120     96\n",
              "[2261]    151    180    100    167    361    500    439    139    120    112\n",
              "[2271]     80    821    380    330    137    450     96    550    100    100\n",
              "[2281]    170    538     80    375    250    330   1600     85    299    150\n",
              "[2291]    450    300    200    450    150    340    125   1086    100    250\n",
              "[2301]   1111    599    185     62     90    180    300    150    129    180\n",
              "[2311]    250     70     60    171    150    100    300    116     50    100\n",
              "[2321]    520    390    130    470    773    361    100    100     91     50\n",
              "[2331]    150     85    136     90     80    100    600    100     60    139\n",
              "[2341]    200    465    200    150    200    109    220    127    350    170\n",
              "[2351]   9500     67    175    350    950     95     61     88    222    200\n",
              "[2361]    152     99    220    195    150     59     85    120    500    225\n",
              "[2371]    472    800    263     51    220    300     48    248    126    158\n",
              "[2381]    160    516    669     75    160    150    160    199     99    300\n",
              "[2391]    327    272    185    284    120    250    100     96    400    129\n",
              "[2401]     99    283     75     62    500    158    158    330    180    158\n",
              "[2411]     89     75    300    100    660   2000     82    200    180    500\n",
              "[2421]     65     80    800     80     70    137    196    500     60    400\n",
              "[2431]     90     60    625    104    120     89    250    100     80    150\n",
              "[2441]    250    155    136    566    210    140     66     99    141    140\n",
              "[2451]    143    100     51    290    110    800    206    237    181    160\n",
              "[2461]     80    465    125    120    120    120     55    191    106    250\n",
              "[2471]    110    330    203    400    280     96     79    130     99    200\n",
              "[2481]     90    250    150    219    320    170    900    100    119    120\n",
              "[2491]    379    590    244     70    130    131     65    600     54    100\n",
              "[2501]    190     80     59     82    198    200    300    200    120     84\n",
              "[2511]    164    150    466    400    136     95    110     90     54    300\n",
              "[2521]    340     90    170     51     63   1000    620     49    250    200\n",
              "[2531]    280    214    543    150    150    200    671    414     80     80\n",
              "[2541]    198    100    900    100     87     90     76     80     80     59\n",
              "[2551]    219     60    125    368    150    210    480    250     78     80\n",
              "[2561]    120    150   1000    150    125    200    150    350     72    300\n",
              "[2571]    400    190    300    173    318    130    774    230     76     55\n",
              "[2581]    135     68    125    207    170     99     50    330    110    110\n",
              "[2591]    400    774    254     75     70   1600    480    114     50    300\n",
              "[2601]    156    250     50    250    145    350    420  15000    300    135\n",
              "[2611]    620    200    110    240    120    390     59    440    190     80\n",
              "[2621]    790    240    134    450    300    230    130    600  10000    223\n",
              "[2631]     60    136    430    272     83   1549    136   1807     76    671\n",
              "[2641]    652     82    173    200    671    250    153     85    516    136\n",
              "[2651]    105    284    333    100    305    108    170    245    390     58\n",
              "[2661]     93    204     88    127    119    120     60    387    300     81\n",
              "[2671]    172     65     88     71    120     90    164    229     80    125\n",
              "[2681]     55    128    419     50    150   5000     95    309     85    160\n",
              "[2691]     90   1000     82    125     80    343  12000    100    154    115\n",
              "[2701]    200    115    115    137    297    319    773    257    290    218\n",
              "[2711]    705    150    300    180     80    200    140    740    229     53\n",
              "[2721]    600    489    170    950    110     85    150    141    993    110\n",
              "[2731]    250    150     70    140    287    160    100     95    150    100\n",
              "[2741]    159     52     70    120    114    300    152    300    800    145\n",
              "[2751]    950    144    301    345     70    250     90    100     70     90\n",
              "[2761]     65    150    117    110    100    439   1100    200     78    260\n",
              "[2771]    850    108     99    450     84    136    486    500    200    257\n",
              "[2781]    151    144    130   1000    120     91    250    100    128    250\n",
              "[2791]    220     90    400    195    113    280     60    210     60    170\n",
              "[2801]    280    180    100    130    150    174    620    136    220    150\n",
              "[2811]    171    130     99   1200    107    836    413     85    159     34\n",
              "[2821]    170    607     90    150    109    157     80    590     70    170\n",
              "[2831]    600    160     80     72   1031    170     94    181    700    348\n",
              "[2841]   2750    166    280    150    110    350    360    152   1000    150\n",
              "[2851]     95    350    389    185    130    129    300   1033    374    150\n",
              "[2861]    258    140   1033    105    240    980    312     60    120    320\n",
              "[2871]    210    155    120     65    100    671     60    120     60     95\n",
              "[2881]    100     73    243    434     71    161    300     89    193    100\n",
              "[2891]     90    821    180     70    140    350    280    284     90    150\n",
              "[2901]     50    120    200     60    700     80    130    100     70     99\n",
              "[2911]    120     54    250    136    110    120    290    300     80     90\n",
              "[2921]   3000    115    137    350     55    100     79    120     60    157\n",
              "[2931]    180     81     51    189    300    169    180    200    250     91\n",
              "[2941]    320    387    135     50    105     80    165    103    516    120\n",
              "[2951]    250    850    215    440    120     60    160    120    500    145\n",
              "[2961]    222     99    360     80     96     90    136   1033    242    119\n",
              "[2971]    160     95     85    350     70    250    727    280    300    400\n",
              "[2981]    413   2500    230     83    294    320    200    250    311    224\n",
              "[2991]    350     60    420    185    144     71     84    250    200    160\n",
              "[3001]     57    530    400    400     95    133     87    275   2323    170\n",
              "[3011]     70     69    500    400    150     54   2000    180     74    720\n",
              "[3021]    250    120    150    196     50    145    250    200     80     59\n",
              "[3031]     86    226    160     60    300    199    120     53    160    115\n",
              "[3041]    140    250    179    232    287    103    230     57    800     85\n",
              "[3051]    220    250     70    149    175     70    199     75     79    230\n",
              "[3061]    150    150    101    330     80     71    340     49    329     59\n",
              "[3071]     70    150     70     45     70    150    151     70    125     75\n",
              "[3081]    120    490    134    190    200     95    248    100     65    475\n",
              "[3091]    180    100    130    200    105    179    240    105    284    200\n",
              "[3101]    195    120    150     80    150    169    350    110    300    280\n",
              "[3111]    344    194    380    129    200    150     57    150    154     65\n",
              "[3121]    150    236    120     95    100    150     75     89    120    500\n",
              "[3131]    500    250    120    272    450    643    380    170    200    130\n",
              "[3141]     80    931   1291     70    200     55    160    150     70    215\n",
              "[3151]    161     67    240     90    280    400    227     77    146    200\n",
              "[3161]    203    290    200     60     90    800    200    200    400    310\n",
              "[3171]    150    230    180    176    150    300     60    149    200    150\n",
              "[3181]    310    100    190    100    177    119    516    120   3000    774\n",
              "[3191]    120    136   1850     86    100     80    188    485    232     60\n",
              "[3201]    400    136    120    333    140    176    250    300     69    120\n",
              "[3211]    156    110    175    300    243     54    200    100     90    215\n",
              "[3221]    120    150    186     70    280    361    400     70    420     78\n",
              "[3231]    400    310    400    181    450     89    140    435     60     75\n",
              "[3241]    179    800    300    250    300    270     80    230    300    259\n",
              "[3251]    140    141     95     70     70    125     90     50    280    150\n",
              "[3261]    280    180    149     61    333    235     70    136    130     95\n",
              "[3271]   1229    120    170    130    100    124    135    100     70     52\n",
              "[3281]   2750    104    200    121    124     55    260     80     90    193\n",
              "[3291]    110    170   1200    150     93    645    321    100    294    350\n",
              "[3301]   1035    300    350    250     91    171    230    250    148    200\n",
              "[3311]    537    150    150     62    300    190    150    200    100    192\n",
              "[3321]    300    109    550    110    198     85    600    200    750    286\n",
              "[3331]    160    220    219   1000    120    188    299     74    650    250\n",
              "[3341]    150    370    130     62    250     76     50    103    100     56\n",
              "[3351]    250    110    250    179    210    200    120     62     64     99\n",
              "[3361]    108    500    350    400    250    300    220    130    129    109\n",
              "[3371]    170     85     70    103    250    200     61    120    150    145\n",
              "[3381]     90    109    450     99     57    500    350    116    400    150\n",
              "[3391]    150    600    184    150    361    208     98    235  36027     48\n",
              "[3401]    129    192    148    140 130000    400    100     83    309    200\n",
              "[3411]    850    500    110     70    515    140     72     89     55    120\n",
              "[3421]     87    170   3098    129    250    620    100   1406    150    150\n",
              "[3431]    100    150    391    650    350    299    100    180    150     93\n",
              "[3441]    100    258    300    420     90    232    220     61    100    350\n",
              "[3451]    313    329     86    180    380    250    410     94    129    238\n",
              "[3461]    250    413    539    198    137    103    300    114     56    550\n",
              "[3471]    221    300    100     96    100    207   4057    230     80    163\n",
              "[3481]   1120    450    220    148    210     58    180     73     70    160\n",
              "[3491]    103    100    197     75     54    165    196     76     90     96\n",
              "[3501]     50     70    100    170    140    136    150    300    720    525\n",
              "[3511]    100    199    501    200    181    190    100    186   1000    930\n",
              "[3521]    500    100    150    100   2000     65    159    350    320    110\n",
              "[3531]    400    786    500    774    237    140    200    220   2629    500\n",
              "[3541]    175    150    240     74     52     91    250    300     90   1500\n",
              "[3551]    140    774    125    189    105    199    214    139     65    800\n",
              "[3561]    250    279    370    500    110     70    220     80    220    250\n",
              "[3571]    500    314    130     62     84    160    250    272    114    310\n",
              "[3581]    207     70    188     79    124    150    101    200    250   1200\n",
              "[3591]    230   1596    750    259    650   1800    700     95    155    364\n",
              "[3601]    190    178    450    321     52    290    120    120    107    220\n",
              "[3611]     90    590    200    500     95     94    130     73    136    180\n",
              "[3621]    110     62    153    193     85    180    300    147    282    300\n",
              "[3631]   2000    150    220    350    180     94    150    112    150    252\n",
              "[3641]    290   1291     70    220    300    340    250    314    200    120\n",
              "[3651]    300     90    500    203    290    160    300    950    192    110\n",
              "[3661]    550     90 129068    351    112    123     81    142    150    314\n",
              "[3671]    800    400     50    567    300    250    120    120     69    361\n",
              "[3681]    400     90    300    109    258    100    120    170    230    270\n",
              "[3691]    515     70     60    350    150    516    350     75    250    500\n",
              "[3701]    250    120    600    321    150    176    180    250     72    459\n",
              "[3711]   2500    414    135     95     66    122    265    150     60    161\n",
              "[3721]    160    680    100     80   1000    140    190    200    190     80\n",
              "[3731]    100    199    150    299    120    150     50    800    340    180\n",
              "[3741]    200    114     70    398    150    200    125    124    300    250\n",
              "[3751]   1929     75    180    366     80    110    176    190    120    100\n",
              "[3761]    254    250    120    150   1272     55    100    442    225    196\n",
              "[3771]    430    578    428    300    115    150    180    150    179    450\n",
              "[3781]    150    220    120     65    117    516     90    150     95    207\n",
              "[3791]     62    280    236   1549    100    180     80    103    149    250\n",
              "[3801]    100    250    120    104     90    150    160    300    102    150\n",
              "[3811]    620    167    220    270    237    155   1031    180    200    168\n",
              "[3821]   1020    438    150    360    773     50    280    400    350    120\n",
              "[3831]    109    100    130    250    140    130     80     90    150   1000\n",
              "[3841]    500    143     70    180    100     90     55     86    650    250\n",
              "[3851]    790     50    500    146    120    100    295    400    162    100\n",
              "[3861]    100    300    411    100     50    814    149     65    175    400\n",
              "[3871]     85    239    250    200    230    146    390    400    150    500\n",
              "[3881]    120    130    800   1300     90    618    169    500     50     75\n",
              "[3891]    309    300    258     53    400   3500    280    908    165    450\n",
              "[3901]    169    100    114    250    150    600    250    250    100   1000\n",
              "[3911]    230     52    180    438    420    541   2061    361    700    104\n",
              "[3921]   1000    190    250     85    281     53    130     81    120   1000\n",
              "[3931]    283     60    670    110    400    400    350    300     82    108\n",
              "[3941]    140     33     81     67    130     68    200    150    300     75\n",
              "[3951]    280    300     80    137    260     60    300    350     56    163\n",
              "[3961]    773    166    240    108    165    200    227     99    145     72\n",
              "[3971]    300   6472    120    110    179    500     39    168     86    180\n",
              "[3981]    118   2577     65    230    100     88     80    110    200     90\n",
              "[3991]     75   3800   1200    501    149    314    304    214    150     75\n",
              "[4001]    400     66    500    160    150    650     50    120    300   1443\n",
              "[4011]    500    750     75    201    210     55     60    650     70     52\n",
              "[4021]    517     70    100     43    200   1031    350     90    370    500\n",
              "[4031]    206    250    515    123    500    100    255    300    100     93\n",
              "[4041]    551    189    170    105    150    200    100    150    142    400\n",
              "[4051]   5154    150    147    190    390    320     60    120     54     75\n",
              "[4061]    480    320  23192    150    200     76     54    211    290    400\n",
              "[4071]    144   2500    280    139    100    551     70    150    329     80\n",
              "[4081]    205    300    300    200     50    450    120    134    288     50\n",
              "[4091]    100   4381    190    150    847    357     39    100    113    103\n",
              "[4101]    217    200     60    250    110    600    773    234    380    650\n",
              "[4111]    319    990    150    387     74     95    643    258    900    450\n",
              "[4121]    650    982    280     66    150    600    350    150    170    213\n",
              "[4131]     75    300    150    155     48    206    196    180    179    120\n",
              "[4141]    220    980    150    253    180   3000    250    220    110    440\n",
              "[4151]    120    500    550    135    300    189    120    150   1000    250\n",
              "[4161]    150    209    412    412    515     79     90    309    180    199\n",
              "[4171]     85    230     64     64    309     50     90     72     93     85\n",
              "[4181]     90    320    150     70     60    200    100    230     35     60\n",
              "[4191]    220     70     90     98     56     70    120    140    175    149\n",
              "[4201]    400    180    420    100    200    180    130    310    650    542\n",
              "[4211]     52     90    100    100    120    650    100    170    250    240\n",
              "[4221]    257    100    216    100     80    100    100    258    100    600\n",
              "[4231]    389    100    350   1899    150    144    439    600    100    110\n",
              "[4241]    465    200    130   1409    350     60    150     84    140    350\n",
              "[4251]     88     65    120   3098     88     53     70   4315    520    800\n",
              "[4261]     60     52    100    260    160    101    350    123     80    150\n",
              "[4271]   1549    220    200   2000    464     90    100    250    150    200\n",
              "[4281]   1265    500     50     49    320    450    380     70    150    150\n",
              "[4291]    180    150     80     77    516    180    155    930    200    236\n",
              "[4301]    300    250    108     50    130    120    310    150    413    439\n",
              "[4311]    720    330    160    208     54    120    170    900    217    280\n",
              "[4321]    170    159    516     80     90    220    250    900   1500    350\n",
              "[4331]    230    400    250   1446    186    430     54    198   1250    131\n",
              "[4341]    500   1208    120    176    314     80     56    200    160     70\n",
              "[4351]   5000    434    100   1200     79    120     67    150    140    180\n",
              "[4361]     52     65    168    154    220    350     50    150   1000    500\n",
              "[4371]    138    185    229   2900   2000    671    516    700    387     65\n",
              "[4381]    395    300    671     65    365     85    359    370     77    300\n",
              "[4391]     50    150    260    103    180    210     77     77    470    198\n",
              "[4401]    200    465    200    220    100   1000    150    170    250    150\n",
              "[4411]   1291    119    170    115    450    450     79    400    130    227\n",
              "[4421]    200   1250    250    380    300     89    113    200    230    263\n",
              "[4431]   1549    210    200    857    250    200   2000 100000    169    200\n",
              "[4441]    200    600    400    350     94    200    150    200   1549    310\n",
              "[4451]    360    300    100    250    400    410    300    543    150   2057\n",
              "[4461]    200    110     72     55    120     64    183    568    100    150\n",
              "[4471]     87   3000     85     70     72    100    100    200    212    180\n",
              "[4481]    300    350    300    155    175    180    100    440    200    250\n",
              "[4491]    190    100    350    200    774   5000     55    310    421    600\n",
              "[4501]    500    500    135     66    134     84   2019    250    200    250\n",
              "[4511]    180   1704     95    130     86    129    550   5000    300    280\n",
              "[4521]   2323    240    500    100     80     75    421    100    150    300\n",
              "[4531]    522    290    250    361    156    400    250    130    230    128\n",
              "[4541]    240    284    280    146    177    111     87    300   4388    100\n",
              "[4551]    106    159    320    364    128    413     86    346    516    300\n",
              "[4561]    110    122    100    200    350    180    142   1100    260    380\n",
              "[4571]    232    294    130    232    129    193    150    579     95    700\n",
              "[4581]    187     50    120     84    130    500    300     86    450    150\n",
              "[4591]    206    270    350    800     90    300    139    250   1000    268\n",
              "[4601]    131    119    200    300    250    423    110    929    152    500\n",
              "[4611]    272   1500    120    140    230    300    500    109     84    101\n",
              "[4621]     81    104    170    147     89     69    407    200    198    225\n",
              "[4631]    150    183    671    200   1000   2500   1121     62    198     62\n",
              "[4641]    200    135    774    120    190    186    361     60    299     50\n",
              "[4651]    140    200    180    140   1033    500    400    450    221    450\n",
              "[4661]   1827    112    110     80     80    270    267    216    120    120\n",
              "[4671]    106    110    100     85    155    421    100    130    200    220\n",
              "[4681]    200    121    150    180    800    350    400    454    450    468\n",
              "[4691]   1048    500    300    230    679    150    125    120    150    350\n",
              "[4701]   1291    210   1000    400    350    258    413    258    300    160\n",
              "[4711]    150    200    190    350     90    175     80    109    150    500\n",
              "[4721]    150    200    400    130    250    150    188    201    550     96\n",
              "[4731]    150     99    100    282    105    266    250    107    350    249\n",
              "[4741]     90   1500    270    516    516    413    450    361    360    895\n",
              "[4751]    500    217    159    400    335    460    600    175   3614    120\n",
              "[4761]    197    120    380    600     60    200    273    107    147    350\n",
              "[4771]    100    110    250    300    299    100    119    206    171    129\n",
              "[4781]    150    258    312    284    350   1200    450    222     95    250\n",
              "[4791]     94     80    150    300    240    171   1033    158    152   3000\n",
              "[4801]    450    130    206    150    150    230    150    220    170    170\n",
              "[4811]    180    190    250    929    300    115    250    516     70     54\n",
              "[4821]    300    199    491    375    290     59    450    235    200  15488\n",
              "[4831]     60    387    150    300    140     70     99    399     70    312\n",
              "[4841]     54    250     70    120    110    150    270     90    258    170\n",
              "[4851]     90    141    342     85    180    180    141    200    350    180\n",
              "[4861]   1086    200     95     90    151    305     90    200    170    250\n",
              "[4871]    738     90    129    400    110    200   1000    300     62    108\n",
              "[4881]    140    350    190    252    309    230    300   1000     78     98\n",
              "[4891]    240     62    700    150    103    450    250    350    214     90\n",
              "[4901]    230     90    300    361    272    800    123    280    200    336\n",
              "[4911]    350    106    250     70    170    190    612    160    281    700\n",
              "[4921]   1549    150    244    352    281    300     80    150     92   1100\n",
              "[4931]    180   1807    200    400     70    250    212     62    657     60\n",
              "[4941]    200    250    156    147    321    410    147    280    140    399\n",
              "[4951]  25000    233    120   1033    350     88    544    700    239    399\n",
              "[4961]    486    114    200    100    129    258    104    350    450    400\n",
              "[4971]    320    200    244     99     60     95    150    600   1500    143\n",
              "[4981]    100    214   2000    320    180    150    821    821    115    100\n",
              "[4991]    115    450    400    111    200   1037   2000    115    150    282\n",
              "[5001]    105    110    120    130    116    720    107    160     94    150\n",
              "[5011]    105    150    550    117    350    199    600    230  25000    396\n",
              "[5021]     84     65    200    150    200    191    800    120    400  25000\n",
              "[5031]     89    196     98    150    345     87    100    100    555    350\n",
              "[5041]    110    150    300    199    170     50    120    500    990    130\n",
              "[5051]    140    132    250    163    134    550     66    120    200    114\n",
              "[5061]    200    427   1265   5000     70    159    150    170    180    350\n",
              "[5071]    110    600    120    200    131    350    600    190    150    250\n",
              "[5081]    200    120    330    800    375    250    150     96    220    171\n",
              "[5091]    160    149    180    250    350     96    300    426   1600    106\n",
              "[5101]     77    150    990    335     70    206    120    145    120    441\n",
              "[5111]    200    300    401    150     64     90    320    300    150    180\n",
              "[5121]    180    990    200   1283   1392    515   4638    645    300     89\n",
              "[5131]   2500    170    160    114    490  73919     75    330    600    126\n",
              "[5141]     50    350    220    200   1031    180    380    200    170    139\n",
              "[5151]    180    500    500    500    800    500    230    197    200    990\n",
              "[5161]    990     95    500   1082     89    490   2319    247   2200    100\n",
              "[5171]    300    300    300    120    109   1222    773    361    201    134\n",
              "[5181]    314    299    150     70    200    180    500    250    158    250\n",
              "[5191]    184     80    170     80    250   1000    293    350    180     50\n",
              "[5201]    300    250    201    515    258    773    450    350   1600    180\n",
              "[5211]   1214   2766    300    127    170    700    375     93    214    194\n",
              "[5221]    136    150    160    500    516    700    250    222    195     89\n",
              "[5231]    170"
            ]
          },
          "metadata": {}
        }
      ]
    },
    {
      "cell_type": "code",
      "source": [
        "barplot((df_listing[df_listing$room_type == 'Private room', ])$price2)\n",
        "plot((df_listing[df_listing$room_type == 'Private room', ])$price2)\n",
        "boxplot((df_listing[df_listing$room_type == 'Private room', ])$price2)"
      ],
      "metadata": {
        "colab": {
          "base_uri": "https://localhost:8080/",
          "height": 1000
        },
        "id": "DnN1WCEYcIhi",
        "outputId": "2e6b54b1-4d3d-422b-ca83-85c29f5f39b4"
      },
      "execution_count": null,
      "outputs": [
        {
          "output_type": "display_data",
          "data": {
            "text/plain": [
              "plot without title"
            ],
            "image/png": "[encoded data removed]"
          },
          "metadata": {
            "image/png": {
              "width": 420,
              "height": 420
            }
          }
        },
        {
          "output_type": "display_data",
          "data": {
            "text/plain": [
              "plot without title"
            ],
            "image/png": "[encoded data removed]"
          },
          "metadata": {
            "image/png": {
              "width": 420,
              "height": 420
            }
          }
        },
        {
          "output_type": "display_data",
          "data": {
            "text/plain": [
              "plot without title"
            ],
            "image/png": "[encoded data removed]"
          },
          "metadata": {
            "image/png": {
              "width": 420,
              "height": 420
            }
          }
        }
      ]
    },
    {
      "cell_type": "code",
      "source": [
        "#Quarto compartilhado \n",
        "summary((df_listing[df_listing$room_type == 'Shared room', ])$price2)\n",
        "print('a moda é:')\n",
        "Mode((df_listing[df_listing$room_type == 'Shared room', ])$price2) # nao consegui colocar na mesma linha "
      ],
      "metadata": {
        "colab": {
          "base_uri": "https://localhost:8080/",
          "height": 86
        },
        "id": "rRu3eHTHhKZx",
        "outputId": "9e7e6390-6cda-4505-e701-20cfc6bb6c9b"
      },
      "execution_count": null,
      "outputs": [
        {
          "output_type": "display_data",
          "data": {
            "text/plain": [
              "    Min.  1st Qu.   Median     Mean  3rd Qu.     Max. \n",
              "    34.0     68.2    100.5   1789.6    200.0 591723.0 "
            ]
          },
          "metadata": {}
        },
        {
          "output_type": "stream",
          "name": "stdout",
          "text": [
            "[1] \"a moda é:\"\n"
          ]
        },
        {
          "output_type": "display_data",
          "data": {
            "text/html": [
              "50"
            ],
            "text/markdown": "50",
            "text/latex": "50",
            "text/plain": [
              "[1] 50\n",
              "attr(,\"freq\")\n",
              "[1] 23"
            ]
          },
          "metadata": {}
        }
      ]
    },
    {
      "cell_type": "code",
      "source": [
        "barplot((df_listing[df_listing$room_type == 'Shared room', ])$price2)\n",
        "plot((df_listing[df_listing$room_type == 'Shared room', ])$price2)\n",
        "boxplot((df_listing[df_listing$room_type == 'Shared room', ])$price2)"
      ],
      "metadata": {
        "colab": {
          "base_uri": "https://localhost:8080/",
          "height": 1000
        },
        "id": "FHXm92ethKh6",
        "outputId": "0899851e-c0b0-4be1-b001-829f65262cd4"
      },
      "execution_count": null,
      "outputs": [
        {
          "output_type": "display_data",
          "data": {
            "text/plain": [
              "plot without title"
            ],
            "image/png": "[encoded data removed]"
          },
          "metadata": {
            "image/png": {
              "width": 420,
              "height": 420
            }
          }
        },
        {
          "output_type": "display_data",
          "data": {
            "text/plain": [
              "plot without title"
            ],
            "image/png": "[encoded data removed]"
          },
          "metadata": {
            "image/png": {
              "width": 420,
              "height": 420
            }
          }
        },
        {
          "output_type": "display_data",
          "data": {
            "text/plain": [
              "plot without title"
            ],
            "image/png": "[encoded data removed]"
          },
          "metadata": {
            "image/png": {
              "width": 420,
              "height": 420
            }
          }
        }
      ]
    },
    {
      "cell_type": "markdown",
      "source": [
        "# Avaliando minimo e maximo de noites\n",
        "\n",
        "\n"
      ],
      "metadata": {
        "id": "yKvK4nnaR4I6"
      }
    },
    {
      "cell_type": "markdown",
      "source": [
        "Minimo de noites"
      ],
      "metadata": {
        "id": "cAP4p-3VSnU-"
      }
    },
    {
      "cell_type": "code",
      "source": [
        "summary(df_listing$minimum_nights)"
      ],
      "metadata": {
        "colab": {
          "base_uri": "https://localhost:8080/",
          "height": 52
        },
        "id": "hS4afOq7Sr_N",
        "outputId": "e3bf74d3-9e20-4565-a5eb-b9ddb0962bbf"
      },
      "execution_count": null,
      "outputs": [
        {
          "output_type": "display_data",
          "data": {
            "text/plain": [
              "    Min.  1st Qu.   Median     Mean  3rd Qu.     Max. \n",
              "   1.000    1.000    2.000    5.358    4.000 1125.000 "
            ]
          },
          "metadata": {}
        }
      ]
    },
    {
      "cell_type": "code",
      "source": [
        "#utilizando o pacote DescTools vamos conseguir facilmente identificar qual o valor que mais aparece entre as opcoes de minimo de noites  (moda) \n",
        "Mode(df_listing$minimum_nights)"
      ],
      "metadata": {
        "colab": {
          "base_uri": "https://localhost:8080/",
          "height": 34
        },
        "id": "dmmkRiZUYLN1",
        "outputId": "4722ac62-eb32-4ca0-95f9-6fd559fe3be8"
      },
      "execution_count": null,
      "outputs": [
        {
          "output_type": "display_data",
          "data": {
            "text/html": [
              "2"
            ],
            "text/markdown": "2",
            "text/latex": "2",
            "text/plain": [
              "[1] 2\n",
              "attr(,\"freq\")\n",
              "[1] 6381"
            ]
          },
          "metadata": {}
        }
      ]
    },
    {
      "cell_type": "code",
      "source": [
        "table(df_listing$minimum_nights)"
      ],
      "metadata": {
        "colab": {
          "base_uri": "https://localhost:8080/",
          "height": 208
        },
        "id": "oorM3r1aP0Xp",
        "outputId": "f363a2d1-23fa-4c65-aadd-c2f59613c2bc"
      },
      "execution_count": null,
      "outputs": [
        {
          "output_type": "display_data",
          "data": {
            "text/plain": [
              "\n",
              "   1    2    3    4    5    6    7    8    9   10   11   12   13   14   15   16 \n",
              "6308 6381 5275 1952 1833  307  983   68   19  448    6   22   16   58  319    3 \n",
              "  17   18   19   20   21   22   23   24   25   27   28   29   30   31   32   34 \n",
              "   6    6    7  133   15    6    2    3   23    2   53    9  343   13    1    1 \n",
              "  35   36   40   50   52   55   56   60   78   80   85   90   93   95   99  100 \n",
              "   1    1    3    2    1    2    1   32    1    1    1  112    1    1    1    5 \n",
              " 109  110  120  150  158  180  182  184  200  210  240  300  360  365  400  500 \n",
              "   1    1   12    2    1   19    1    2    3    1    1    3    8   27    1    1 \n",
              " 630  730  960  999 1000 1125 \n",
              "   1    1    1    3    3    1 "
            ]
          },
          "metadata": {}
        }
      ]
    },
    {
      "cell_type": "code",
      "source": [
        "sd(df_listing$minimum_nights)"
      ],
      "metadata": {
        "colab": {
          "base_uri": "https://localhost:8080/",
          "height": 34
        },
        "id": "D2M9bMfMk702",
        "outputId": "a0d522cc-9e07-4382-e7be-930d49f6adb3"
      },
      "execution_count": null,
      "outputs": [
        {
          "output_type": "display_data",
          "data": {
            "text/html": [
              "26.0441110753051"
            ],
            "text/markdown": "26.0441110753051",
            "text/latex": "26.0441110753051",
            "text/plain": [
              "[1] 26.04411"
            ]
          },
          "metadata": {}
        }
      ]
    },
    {
      "cell_type": "code",
      "source": [
        "boxplot(df_listing$minimum_nights)"
      ],
      "metadata": {
        "colab": {
          "base_uri": "https://localhost:8080/",
          "height": 437
        },
        "id": "hnyN4jQ9RvM1",
        "outputId": "3378b435-a8bc-49d9-839c-ec954efb94ea"
      },
      "execution_count": null,
      "outputs": [
        {
          "output_type": "display_data",
          "data": {
            "text/plain": [
              "plot without title"
            ],
            "image/png": "[encoded data removed]"
          },
          "metadata": {
            "image/png": {
              "width": 420,
              "height": 420
            }
          }
        }
      ]
    },
    {
      "cell_type": "code",
      "source": [
        "barplot(df_listing$minimum_nights)"
      ],
      "metadata": {
        "colab": {
          "base_uri": "https://localhost:8080/",
          "height": 437
        },
        "id": "yNQ12JTiKZDi",
        "outputId": "cce8537b-e275-46c5-d9e4-63de6c0cc72b"
      },
      "execution_count": null,
      "outputs": [
        {
          "output_type": "display_data",
          "data": {
            "text/plain": [
              "plot without title"
            ],
            "image/png": "[encoded data removed]"
          },
          "metadata": {
            "image/png": {
              "width": 420,
              "height": 420
            }
          }
        }
      ]
    },
    {
      "cell_type": "code",
      "source": [
        "hist(df_listing$minimum_nights)"
      ],
      "metadata": {
        "colab": {
          "base_uri": "https://localhost:8080/",
          "height": 437
        },
        "id": "FzrQonISKutb",
        "outputId": "65f2176d-e0b5-40ba-fd1e-16919bd5d845"
      },
      "execution_count": null,
      "outputs": [
        {
          "output_type": "display_data",
          "data": {
            "text/plain": [
              "Plot with title “Histogram of df_listing$minimum_nights”"
            ],
            "image/png": "[encoded data removed]"
          },
          "metadata": {
            "image/png": {
              "width": 420,
              "height": 420
            }
          }
        }
      ]
    },
    {
      "cell_type": "code",
      "source": [
        "plot(density(df_listing$minimum_nights))"
      ],
      "metadata": {
        "colab": {
          "base_uri": "https://localhost:8080/",
          "height": 437
        },
        "id": "zsnxj2uVKdyx",
        "outputId": "dce87813-6e65-4039-ff93-da5e3081d445"
      },
      "execution_count": null,
      "outputs": [
        {
          "output_type": "display_data",
          "data": {
            "text/plain": [
              "Plot with title “density.default(x = df_listing$minimum_nights)”"
            ],
            "image/png": "[encoded data removed]"
          },
          "metadata": {
            "image/png": {
              "width": 420,
              "height": 420
            }
          }
        }
      ]
    },
    {
      "cell_type": "markdown",
      "source": [
        "Maximo de noites"
      ],
      "metadata": {
        "id": "uQfI4OvxSi_M"
      }
    },
    {
      "cell_type": "code",
      "source": [
        "summary(df_listing$maximum_nights)"
      ],
      "metadata": {
        "colab": {
          "base_uri": "https://localhost:8080/",
          "height": 52
        },
        "id": "v4MrgY5HR8sM",
        "outputId": "586fe8f7-c2ac-4f6b-8c07-52e660b6318e"
      },
      "execution_count": null,
      "outputs": [
        {
          "output_type": "display_data",
          "data": {
            "text/plain": [
              "   Min. 1st Qu.  Median    Mean 3rd Qu.    Max. \n",
              "    1.0    45.0   365.0   566.4  1125.0 47036.0 "
            ]
          },
          "metadata": {}
        }
      ]
    },
    {
      "cell_type": "code",
      "source": [
        "#utilizando o pacote DescTools vamos conseguir facilmente identificar qual o valor que mais aparece entre as opcoes de maximo de noites  (moda) \n",
        "Mode(df_listing$maximum_nights)  # 1125 noites representa 3 anos ... "
      ],
      "metadata": {
        "colab": {
          "base_uri": "https://localhost:8080/",
          "height": 34
        },
        "id": "sw7PmeU5YkTC",
        "outputId": "b2951308-bddb-4d65-bf3f-c887c6473bfa"
      },
      "execution_count": null,
      "outputs": [
        {
          "output_type": "display_data",
          "data": {
            "text/html": [
              "1125"
            ],
            "text/markdown": "1125",
            "text/latex": "1125",
            "text/plain": [
              "[1] 1125\n",
              "attr(,\"freq\")\n",
              "[1] 10376"
            ]
          },
          "metadata": {}
        }
      ]
    },
    {
      "cell_type": "code",
      "source": [
        "table(df_listing$maximum_nights)"
      ],
      "metadata": {
        "colab": {
          "base_uri": "https://localhost:8080/",
          "height": 555
        },
        "id": "-yVk-JAMRgE6",
        "outputId": "f44add15-3e12-4474-8b2d-9a8b6951e145"
      },
      "execution_count": null,
      "outputs": [
        {
          "output_type": "display_data",
          "data": {
            "text/plain": [
              "\n",
              "    1     2     3     4     5     6     7     8     9    10    11    12    13 \n",
              "   29    28    50    72   154    81   421    78    26   527    14    54    10 \n",
              "   14    15    16    17    18    19    20    21    22    23    24    25    26 \n",
              "  120   667    17    10    20     5   377    84    10     7     6   110    16 \n",
              "   27    28    29    30    31    32    33    34    35    36    37    38    39 \n",
              "   31   214    60  2425   167    27    16     3    45     7     4     4     2 \n",
              "   40    42    43    44    45    46    47    48    50    55    56    59    60 \n",
              "  120     3     4     2   109     1     3     1    19     3     3    13   772 \n",
              "   61    62    63    65    68    69    70    71    75    76    78    79    80 \n",
              "    6     9     4     8     2     1    15     1     7     1     1     2    33 \n",
              "   81    82    83    84    85    87    88    89    90    91    92    93    95 \n",
              "    3     2     1     5    18     2    24   283  1556     9     7     4     5 \n",
              "   96    99   100   102   105   110   120   121   123   125   128   130   132 \n",
              "    1     5    61     1     1     1   186     3     1     5     1     2     1 \n",
              "  140   150   152   155   160   161   179   180   182   183   185   186   190 \n",
              "    1    48     1     2     4     1     2   294    26     1     4     1    13 \n",
              "  194   195   199   200   210   226   240   244   250   265   270   275   277 \n",
              "    1     1     2    38     3     1     9     1     5     1     3     1     1 \n",
              "  280   299   300   310   320   325   330   333   336   345   346   349   350 \n",
              "    2     1    37     1     6     1     2     1     1     1     1     1     6 \n",
              "  352   355   358   360   363   364   365   366   368   369   370   380   385 \n",
              "    1     1     1    99     1     4  4241     8     1     1     3     6     1 \n",
              "  390   395   396   398   400   420   499   500   540   580   600   605   660 \n",
              "    3     2     1     2     7     3     1    12     1     1     6     1     1 \n",
              "  680   690   700   720   730   750   760   777   790   800   888   900   912 \n",
              "    1     1     7    10    22     3     2     3     1     4     3    34     5 \n",
              "  913   920   960   980   998   999  1000  1001  1008  1035  1053  1080  1095 \n",
              "    1     1     1     1     1     5    59     5     1     1     1     2    12 \n",
              " 1100  1109  1110  1120  1122  1123  1124  1125  1500  1825 30000 47036 \n",
              "    3     1     1     8     1     4    32 10376     1     1     1     1 "
            ]
          },
          "metadata": {}
        }
      ]
    },
    {
      "cell_type": "code",
      "source": [
        "sd(df_listing$maximum_nights)"
      ],
      "metadata": {
        "colab": {
          "base_uri": "https://localhost:8080/",
          "height": 34
        },
        "id": "GtvXrlVJlFC5",
        "outputId": "ea89533c-3122-402e-8f83-d1ab1ffa49d2"
      },
      "execution_count": null,
      "outputs": [
        {
          "output_type": "display_data",
          "data": {
            "text/html": [
              "605.670886347937"
            ],
            "text/markdown": "605.670886347937",
            "text/latex": "605.670886347937",
            "text/plain": [
              "[1] 605.6709"
            ]
          },
          "metadata": {}
        }
      ]
    },
    {
      "cell_type": "code",
      "source": [
        "barplot(df_listing$maximum_nights)"
      ],
      "metadata": {
        "colab": {
          "base_uri": "https://localhost:8080/",
          "height": 437
        },
        "id": "MPEd-P9vSdH6",
        "outputId": "3faecc31-58bf-48f5-b06f-6cfc0d14c30e"
      },
      "execution_count": null,
      "outputs": [
        {
          "output_type": "display_data",
          "data": {
            "text/plain": [
              "plot without title"
            ],
            "image/png": "[encoded data removed]"
          },
          "metadata": {
            "image/png": {
              "width": 420,
              "height": 420
            }
          }
        }
      ]
    },
    {
      "cell_type": "code",
      "source": [
        "boxplot(df_listing$maximum_nights)"
      ],
      "metadata": {
        "colab": {
          "base_uri": "https://localhost:8080/",
          "height": 437
        },
        "id": "wwYIgxyjRkfX",
        "outputId": "e4583e53-c220-41c2-f115-aae30815906b"
      },
      "execution_count": null,
      "outputs": [
        {
          "output_type": "display_data",
          "data": {
            "text/plain": [
              "plot without title"
            ],
            "image/png": "[encoded data removed]"
          },
          "metadata": {
            "image/png": {
              "width": 420,
              "height": 420
            }
          }
        }
      ]
    },
    {
      "cell_type": "code",
      "source": [
        "hist(df_listing$maximum_nights)"
      ],
      "metadata": {
        "colab": {
          "base_uri": "https://localhost:8080/",
          "height": 437
        },
        "id": "cDBxF7WgK3Gz",
        "outputId": "9ac39ed6-edfa-4e04-ce9a-fdaf4add4f63"
      },
      "execution_count": null,
      "outputs": [
        {
          "output_type": "display_data",
          "data": {
            "text/plain": [
              "Plot with title “Histogram of df_listing$maximum_nights”"
            ],
            "image/png": "[encoded data removed]"
          },
          "metadata": {
            "image/png": {
              "width": 420,
              "height": 420
            }
          }
        }
      ]
    },
    {
      "cell_type": "markdown",
      "source": [
        "Há correlação entre os dados? "
      ],
      "metadata": {
        "id": "sskYb3S5K8yl"
      }
    },
    {
      "cell_type": "code",
      "source": [
        "cor(df_listing$price2,df_listing$maximum_nights)\n",
        "cor(df_listing$price2,df_listing$minimum_nights)"
      ],
      "metadata": {
        "colab": {
          "base_uri": "https://localhost:8080/",
          "height": 52
        },
        "id": "cxn0YNf4cEC9",
        "outputId": "31a0ae21-1fbd-461f-d4da-e4fa29b753f3"
      },
      "execution_count": null,
      "outputs": [
        {
          "output_type": "display_data",
          "data": {
            "text/html": [
              "0.00174674965064618"
            ],
            "text/markdown": "0.00174674965064618",
            "text/latex": "0.00174674965064618",
            "text/plain": [
              "[1] 0.00174675"
            ]
          },
          "metadata": {}
        },
        {
          "output_type": "display_data",
          "data": {
            "text/html": [
              "0.0138903441205581"
            ],
            "text/markdown": "0.0138903441205581",
            "text/latex": "0.0138903441205581",
            "text/plain": [
              "[1] 0.01389034"
            ]
          },
          "metadata": {}
        }
      ]
    }
  ]
}